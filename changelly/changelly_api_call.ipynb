{
 "cells": [
  {
   "cell_type": "code",
   "execution_count": 1,
   "metadata": {},
   "outputs": [],
   "source": [
    "import hashlib\n",
    "import hmac\n",
    "import json\n",
    "import pprint as pp\n",
    "import requests"
   ]
  },
  {
   "cell_type": "code",
   "execution_count": 2,
   "metadata": {},
   "outputs": [],
   "source": [
    "import os"
   ]
  },
  {
   "cell_type": "code",
   "execution_count": 3,
   "metadata": {},
   "outputs": [],
   "source": [
    "#example code to Call 1st step in Changelly API Call\n",
    "#how it works: https://old.changelly.com/content/faq/how_it_works.png\n",
    "#github link to example:https://github.com/changelly/changelly-examples/blob/master/python/example.py\n",
    "\n",
    "API_URL = 'https://api.changelly.com'\n",
    "API_KEY = os.environ['CHANGELLY_KEY']\n",
    "API_SECRET = os.environ['CHANGELLY_SECRET_KEY']"
   ]
  },
  {
   "cell_type": "markdown",
   "metadata": {},
   "source": [
    "#Here is simple use case of our exchange API:\n",
    "\n",
    "1.API — get available at the current moment list of currencies with getCurrencies or getCurrenciesFull method;\n",
    "\n",
    "2.GUI — ask user for currency pair he wants to exchange. For example, it can be LTC (Litecoin) to ETH (Ethereum);\n",
    "\n",
    "3.API — get minimum exchangeable amount for selected currency pair with getMinAmount method;\n",
    "\n",
    "4.GUI — ask user for the amount to exchange;\n",
    "\n",
    "5.API — call getExchangeAmount method to get estimated ETH amount after exchange;\n",
    "\n",
    "6.GUI — show an estimated amount to user and ask for confirmation;\n",
    "\n",
    "7.GUI — ask user for his wallet address to send coins after exchange;\n",
    "\n",
    "8.API — call createTransaction method to get the LTC address to which user should send his funds;\n",
    "\n",
    "9.GUI — ask user to send LTC coins to the address for exchange;\n",
    "\n",
    "10.User sends LTC. We receive LTC and exchange it for ETH. We send ETH to the address that was submitted to createTransaction method;\n",
    "\n",
    "11. Via getTransactions method you can get all the transactions history.\n"
   ]
  },
  {
   "cell_type": "code",
   "execution_count": 24,
   "metadata": {},
   "outputs": [
    {
     "name": "stdout",
     "output_type": "stream",
     "text": [
      "<Response [200]>\n",
      "{'jsonrpc': '2.0', 'id': 1, 'result': ['btc', 'eth', 'etc', 'xem', 'lsk', 'xmr', 'zec', 'strat', 'ardr', 'rep', 'maid', 'ltc', 'xrp', 'doge', 'nxt', 'dash', 'gnt', 'waves', 'usdt', 'swt', 'dgd', 'trst', 'edg', 'wings', 'rlc', 'gno', 'dcr', 'gup', 'lun', 'xlm', 'bat', 'ant', 'bnt', 'cvc', 'eos', 'pay', 'neo', 'omg', 'mco', 'zrx', 'qtum', 'ptoy', 'storj', 'fun', 'hmq', 'nmr', 'salt', 'xvg', 'btg', 'dgb', 'vib', 'rcn', 'powr', 'trx', 'ppt', 'stx', 'kmd', 'brd', 'ngc', 'zen', 'ark', 'arn', 'zap', 'abyss', 'lrc', 'poly', 'xzc', 'smart', 'ethos', 'nexo', 'ont', 'betr', 'enj', 'bcd', 'knc', 'tusd', 'dent', 'bkx', 'mith', 'tel', 'dai', 'link', 'mkr', 'r', 'ignis', 'ada', 'proc', 'usdc', 'ht', 'grs', 'eurs', 'bch', 'bsv', 'dgtx', 'pax', 'mana', 'nim', 'sub', 'pma', 'xtz', 'btt', 'gas', 'fet', 'kin', 'bdg', 'bnb', 'eosdt', 'plr', 'vet', 'phb', 'usdt20', 'atom', 'xrc', 'ppc', 'nano', 'iotx', 'nebl', 'busd', 'rvn', 'tomo']}\n"
     ]
    }
   ],
   "source": [
    "def getCurrencies():\n",
    "    '''\n",
    "    Should be called when the user goes to the exchange screen.\n",
    "    \n",
    "    Should return a list of possible swaps.\n",
    "    '''\n",
    "    \n",
    "    return \n",
    "\n",
    "message = {\n",
    "    'jsonrpc': '2.0',\n",
    "    'id': 1,\n",
    "    'method': 'getCurrencies', #getCurrenciesFull will return all available and their state\n",
    "    'params': []\n",
    "}\n",
    "\n",
    "serialized_data = json.dumps(message)\n",
    "\n",
    "sign = hmac.new(API_SECRET.encode('utf-8'), serialized_data.encode('utf-8'), hashlib.sha512).hexdigest()\n",
    "\n",
    "headers = {'api-key': API_KEY, 'sign': sign, 'Content-type': 'application/json'}\n",
    "response_getcurrencies = requests.post(API_URL, headers=headers, data=serialized_data)\n",
    "\n",
    "print(response_getcurrencies)\n",
    "print(response_getcurrencies.json())\n",
    "\n",
    "#<Response [200]>\n",
    "#{'jsonrpc': '2.0', 'id': 1, 'result': ['btc', 'eth', 'etc', 'xem', 'lsk', 'xmr', 'zec', 'strat', 'ardr', 'rep', 'maid', 'ltc', 'xrp', 'doge', 'nxt', 'dash', 'gnt', 'waves', 'usdt', 'swt', 'dgd', 'trst', 'edg', 'wings', 'rlc', 'gno', 'dcr', 'gup', 'lun', 'xlm', 'bat', 'ant', 'bnt', 'cvc', 'eos', 'pay', 'neo', 'omg', 'mco', 'zrx', 'qtum', 'ptoy', 'storj', 'fun', 'hmq', 'nmr', 'salt', 'xvg', 'btg', 'dgb', 'vib', 'rcn', 'powr', 'trx', 'ppt', 'stx', 'kmd', 'brd', 'ngc', 'zen', 'wtc', 'ark', 'arn', 'zap', 'abyss', 'lrc', 'poly', 'xzc', 'smart', 'ethos', 'nexo', 'ont', 'betr', 'enj', 'bcd', 'knc', 'tusd', 'dent', 'bkx', 'mith', 'tel', 'dai', 'link', 'mkr', 'r', 'ignis', 'ada', 'proc', 'usdc', 'ht', 'grs', 'eurs', 'bch', 'bsv', 'dgtx', 'pax', 'mana', 'nim', 'sub', 'pma', 'xtz', 'btt', 'gas', 'fet', 'kin', 'bdg', 'bnb', 'eosdt', 'plr', 'vet', 'phb', 'usdt20', 'atom', 'xrc', 'ppc', 'nano', 'iotx', 'nebl', 'busd', 'rvn', 'tomo']}"
   ]
  },
  {
   "cell_type": "code",
   "execution_count": 22,
   "metadata": {},
   "outputs": [
    {
     "name": "stdout",
     "output_type": "stream",
     "text": [
      "<Response [200]>\n",
      "{'id': 'test', 'jsonrpc': '2.0', 'result': '0.00075'}\n",
      "None\n"
     ]
    }
   ],
   "source": [
    "message = {\n",
    "   \"jsonrpc\": \"2.0\",\n",
    "   \"id\": \"test\", #test?\n",
    "   \"method\": \"getMinAmount\",\n",
    "   \"params\": {\n",
    "      \"from\": \"btc\",\n",
    "      \"to\": \"eth\",\n",
    "   }\n",
    "}\n",
    "\n",
    "serialized_data = json.dumps(message)\n",
    "\n",
    "sign = hmac.new(API_SECRET.encode('utf-8'), serialized_data.encode('utf-8'), hashlib.sha512).hexdigest()\n",
    "\n",
    "headers = {'api-key': API_KEY, 'sign': sign, 'Content-type': 'application/json'}\n",
    "response_minamount = requests.post(API_URL, headers=headers, data=serialized_data)\n",
    "\n",
    "print(response_minamount)\n",
    "print(pp.pprint(response_minamount.json()))"
   ]
  },
  {
   "cell_type": "code",
   "execution_count": 23,
   "metadata": {},
   "outputs": [
    {
     "name": "stdout",
     "output_type": "stream",
     "text": [
      "<Response [200]>\n",
      "{'id': 'test', 'jsonrpc': '2.0', 'result': '0.051771200000000000'}\n",
      "None\n"
     ]
    }
   ],
   "source": [
    "#Estimating exchanges between..\n",
    "#estimate amount of coins between the two as a result in the to.\n",
    "message = {\n",
    "   \"jsonrpc\": \"2.0\",\n",
    "   \"id\": \"test\",\n",
    "   \"method\": \"getExchangeAmount\",\n",
    "   \"params\": {\n",
    "      \"from\": \"btc\",\n",
    "      \"to\": \"eth\",\n",
    "      \"amount\": \".001\"\n",
    "   },\n",
    "}\n",
    "serialized_data = json.dumps(message)\n",
    "\n",
    "sign = hmac.new(API_SECRET.encode('utf-8'), serialized_data.encode('utf-8'), hashlib.sha512).hexdigest()\n",
    "\n",
    "headers = {'api-key': API_KEY, 'sign': sign, 'Content-type': 'application/json'}\n",
    "response_estXamount = requests.post(API_URL, headers=headers, data=serialized_data)\n",
    "\n",
    "print(response_estXamount)\n",
    "print(pp.pprint(response_estXamount.json()))"
   ]
  },
  {
   "cell_type": "code",
   "execution_count": 10,
   "metadata": {
    "collapsed": true,
    "jupyter": {
     "outputs_hidden": true
    }
   },
   "outputs": [
    {
     "name": "stdout",
     "output_type": "stream",
     "text": [
      "<Response [200]>\n",
      "{'id': 1,\n",
      " 'jsonrpc': '2.0',\n",
      " 'result': [{'amount': '1',\n",
      "             'fee': '0.00009440613065326633165',\n",
      "             'from': 'eth',\n",
      "             'networkFee': '0.0002500000000000000000',\n",
      "             'rate': '0.01888122613065326633',\n",
      "             'result': '0.01878682',\n",
      "             'to': 'btc',\n",
      "             'visibleAmount': '0.01888122613065326633'},\n",
      "            {'amount': '1',\n",
      "             'fee': '0.2607699685929648241206',\n",
      "             'from': 'btc',\n",
      "             'networkFee': '0.0100000000000000000000',\n",
      "             'rate': '52.15399371859296482412',\n",
      "             'result': '51.893223750000000000',\n",
      "             'to': 'eth',\n",
      "             'visibleAmount': '52.15399371859296482412'}]}\n",
      "None\n"
     ]
    }
   ],
   "source": [
    "message = {\n",
    "  \"jsonrpc\": \"2.0\",\n",
    "  \"method\": \"getExchangeAmount\",\n",
    "  \"params\": [\n",
    "    {\n",
    "      \"from\": \"eth\",\n",
    "      \"to\": \"btc\",\n",
    "      \"amount\": \"1\"\n",
    "    },\n",
    "    {\n",
    "      \"from\": \"btc\",\n",
    "      \"to\": \"eth\",\n",
    "      \"amount\": \"1\"\n",
    "    }\n",
    "  ],\n",
    "  \"id\": 1\n",
    "}\n",
    "\n",
    "serialized_data = json.dumps(message)\n",
    "\n",
    "sign = hmac.new(API_SECRET.encode('utf-8'), serialized_data.encode('utf-8'), hashlib.sha512).hexdigest()\n",
    "\n",
    "headers = {'api-key': API_KEY, 'sign': sign, 'Content-type': 'application/json'}\n",
    "response_est_exchange_amt = requests.post(API_URL, headers=headers, data=serialized_data)\n",
    "\n",
    "print(response_est_exchange_amt)\n",
    "print(pp.pprint(response_est_exchange_amt.json()))"
   ]
  },
  {
   "cell_type": "code",
   "execution_count": 14,
   "metadata": {},
   "outputs": [
    {
     "name": "stdout",
     "output_type": "stream",
     "text": [
      "<Response [200]>\n",
      "{'id': 'test',\n",
      " 'jsonrpc': '2.0',\n",
      " 'result': {'amountExpectedFrom': 300,\n",
      "            'amountExpectedTo': '80.2256000',\n",
      "            'amountTo': 0,\n",
      "            'apiExtraFee': '0',\n",
      "            'changellyFee': '0.5',\n",
      "            'createdAt': '2020-01-19T19:30:51.000Z',\n",
      "            'currencyFrom': 'trx',\n",
      "            'currencyTo': 'xlm',\n",
      "            'id': 'ay3w4h0izwxesz37',\n",
      "            'kycRequired': False,\n",
      "            'payinAddress': 'TGnGcbnwdfGTupDyq1ePaSQcuvXatRVo9D',\n",
      "            'payinExtraId': None,\n",
      "            'payoutAddress': 'GCWI7JLOO7ZLEOTOPS73735WMMCHIZ24ZQ742C2BD53OGL6QEUDISIJ4',\n",
      "            'payoutExtraId': 'NULL',\n",
      "            'status': 'new'}}\n",
      "None\n"
     ]
    }
   ],
   "source": [
    "#Create transaction...\n",
    "#Recepient's Wallet address with currency pairs and amounts\n",
    "\n",
    "#Request Changelly depost address and send recepient's wallet address with currency pairs and amounts.\n",
    "\n",
    "#actuall address found in Atomic under Stellar (XLM).\n",
    "\n",
    "message = {\n",
    "   \"jsonrpc\": \"2.0\",\n",
    "   \"id\": \"test\",\n",
    "   \"method\": \"createTransaction\",\n",
    "   \"params\": {\n",
    "      \"from\": \"trx\",\n",
    "      \"to\": \"xlm\",\n",
    "      \"address\": \"GCWI7JLOO7ZLEOTOPS73735WMMCHIZ24ZQ742C2BD53OGL6QEUDISIJ4\", #valid to address... in this case XLM\n",
    "      \"extraId\": 'NULL',\n",
    "      \"amount\": 300\n",
    "   }\n",
    "}\n",
    "\n",
    "serialized_data = json.dumps(message)\n",
    "\n",
    "sign = hmac.new(API_SECRET.encode('utf-8'), serialized_data.encode('utf-8'), hashlib.sha512).hexdigest()\n",
    "\n",
    "headers = {'api-key': API_KEY, 'sign': sign, 'Content-type': 'application/json'}\n",
    "response_create_tran = requests.post(API_URL, headers=headers, data=serialized_data)\n",
    "\n",
    "print(response_create_tran)\n",
    "print(pp.pprint(response_create_tran.json()))\n",
    "\n",
    "# <Response [200]>\n",
    "# {'id': 'test', Transaction ID. Could be used in getStatus method\n",
    "#  'jsonrpc': '2.0',\n",
    "#  'result': {'amountExpectedFrom': 300,\n",
    "#             'amountExpectedTo': '80.1268000',\n",
    "#             'amountTo': 0, Real amount after the exchange that was sent to payoutAddress\n",
    "#             'apiExtraFee': '0', our API Extra fee in percents\n",
    "#             'changellyFee': '0.5',  Changelly fee in percents\n",
    "#             'createdAt': '2020-01-19T19:11:46.000Z',\n",
    "#             'currencyFrom': 'trx',\n",
    "#             'currencyTo': 'xlm',\n",
    "#             'id': 'l3jgq1iq0nt6yds4', Transaction ID. Could be used in getStatus method\n",
    "#             'kycRequired': False,\n",
    "#             'payinAddress': 'TGnGcbnwdfGTupDyq1ePaSQcuvXatRVo9D', Address for a user to send coins to\n",
    "#             'payinExtraId': None, ExtraId for payinAddress in case it is required\n",
    "#             'payoutAddress': 'GCWI7JLOO7ZLEOTOPS73735WMMCHIZ24ZQ742C2BD53OGL6QEUDISIJ4', Address where the exchange result will be sent to\n",
    "#             'payoutExtraId': 'NULL',\n",
    "#             'status': 'new'}}\n",
    "# None\n",
    "\n",
    "# id\tTransaction ID. Could be used in getStatus method\n",
    "# apiExtraFee\tYour API Extra fee in percents\n",
    "# changellyFee\tChangelly fee in percents\n",
    "# payinAddress\tAddress for a user to send coins to\n",
    "# payinExtraId\tExtraId for payinAddress in case it is required\n",
    "# payoutAddress\tAddress where the exchange result will be sent to\n",
    "# payoutExtraId\tExtraId for payoutAddress in case it is required\n",
    "# amountExpectedFrom\tamount from createTransaction\n",
    "# amountExpectedTo\tresult from getExchangeAmount at the moment of createTransaction\n",
    "# status\tTransaction status\n",
    "# currencyTo\tTicker of input currency\n",
    "# currencyFrom\tTicker of output currency\n",
    "# amountTo\tReal amount after the exchange that was sent to payoutAddress\n",
    "# createdAt\tPoint of time when the transaction was created\n",
    "\n",
    "#POST NOTES\n",
    "#When TRX was sent to this address, XLM was sent back. \n",
    "#But I am getting a waiting response from the ID"
   ]
  },
  {
   "cell_type": "code",
   "execution_count": 30,
   "metadata": {},
   "outputs": [
    {
     "name": "stdout",
     "output_type": "stream",
     "text": [
      "<Response [200]>\n",
      "[]\n",
      "None\n"
     ]
    }
   ],
   "source": [
    "#THE ABOVE WORKED!!!!!!!\n",
    "message = {\n",
    "   \"jsonrpc\": \"2.0\", #stays the same.\n",
    "   \"id\": \"test\", #does not seem to change things. Unsure of any other parameters that require this.\n",
    "   \"method\": \"getTransactions\", #method\n",
    "   \"params\": {\n",
    "      \"currency\": \"trx\", #what was transfered out, in this case TRX\n",
    "      \"address\": \"TGnGcbnwdfGTupDyq1ePaSQcuvXatRVo9D\", #<<payin address to search>>\n",
    "      \"extraId\": 'NULL', #for coins that require it\n",
    "      \"limit\": 10, #how many records to recieve\n",
    "      \"offset\" : 10 #records cursor\n",
    "   }\n",
    "}\n",
    "\n",
    "serialized_data = json.dumps(message)\n",
    "\n",
    "sign = hmac.new(API_SECRET.encode('utf-8'), serialized_data.encode('utf-8'), hashlib.sha512).hexdigest()\n",
    "\n",
    "headers = {'api-key': API_KEY, 'sign': sign, 'Content-type': 'application/json'}\n",
    "response_gettran = requests.post(API_URL, headers=headers, data=serialized_data)\n",
    "\n",
    "print(response_gettran)\n",
    "print(pp.pprint(response_gettran.json()['result']))\n"
   ]
  },
  {
   "cell_type": "code",
   "execution_count": 28,
   "metadata": {},
   "outputs": [
    {
     "name": "stdout",
     "output_type": "stream",
     "text": [
      "<Response [200]>\n",
      "{'id': 'test', 'jsonrpc': '2.0', 'result': 'finished'}\n",
      "None\n"
     ]
    }
   ],
   "source": [
    "message = {\n",
    "   \"jsonrpc\": \"2.0\",\n",
    "   \"id\": \"test\",\n",
    "   \"method\": \"getStatus\",\n",
    "   \"params\": {\n",
    "      \"id\": \"58xvjpqfkzwkyjls\"\n",
    "   }\n",
    "}\n",
    "\n",
    "serialized_data = json.dumps(message)\n",
    "\n",
    "sign = hmac.new(API_SECRET.encode('utf-8'), serialized_data.encode('utf-8'), hashlib.sha512).hexdigest()\n",
    "\n",
    "headers = {'api-key': API_KEY, 'sign': sign, 'Content-type': 'application/json'}\n",
    "response_getstatus = requests.post(API_URL, headers=headers, data=serialized_data)\n",
    "\n",
    "print(response_getstatus)\n",
    "print(pp.pprint(response_getstatus.json()))\n"
   ]
  },
  {
   "cell_type": "code",
   "execution_count": null,
   "metadata": {},
   "outputs": [],
   "source": []
  }
 ],
 "metadata": {
  "kernelspec": {
   "display_name": "Python 3",
   "language": "python",
   "name": "python3"
  },
  "language_info": {
   "codemirror_mode": {
    "name": "ipython",
    "version": 3
   },
   "file_extension": ".py",
   "mimetype": "text/x-python",
   "name": "python",
   "nbconvert_exporter": "python",
   "pygments_lexer": "ipython3",
   "version": "3.7.3"
  }
 },
 "nbformat": 4,
 "nbformat_minor": 4
}
