{
 "cells": [
  {
   "cell_type": "markdown",
   "metadata": {},
   "source": [
    "# ATOMIC SWAP EXAMPLE\n",
    "\n",
    "- Alice has over 0.01 Dash and wants to buy 0.001 litecoins\n",
    "- Alice doesn’t have a litecoin wallet\n",
    "- Bob has over 0.001 litecoins and wants to buy around 0.01 Dash\n",
    "- Bob has a Dash wallet\n",
    "\n",
    "## 1. Each Party Creates A Wallet In Each Blockchain\n",
    "\n",
    "Total wallets = 4. \n"
   ]
  },
  {
   "cell_type": "code",
   "execution_count": 1,
   "metadata": {},
   "outputs": [],
   "source": [
    "from clove.network import Litecoin"
   ]
  },
  {
   "cell_type": "code",
   "execution_count": 2,
   "metadata": {},
   "outputs": [
    {
     "data": {
      "text/plain": [
       "'LWZm6ZzCFQMP98vkYjFnLQJrPVcmEL6rfg'"
      ]
     },
     "execution_count": 2,
     "metadata": {},
     "output_type": "execute_result"
    }
   ],
   "source": [
    "ltc_network = Litecoin()\n",
    "\n",
    "#alice_ltc_wallet = ltc_network.get_new_wallet()\n",
    "alice_ltc_wallet = ltc_network.get_wallet(private_key='T3uJbS5yKBCBxpptkr6nWoU6DFxkUiDAbKk5Ynoqhqfea5i3ef4e')\n",
    "\n",
    "alice_ltc_wallet.address #LWZm6ZzCFQMP98vkYjFnLQJrPVcmEL6rfg"
   ]
  },
  {
   "cell_type": "code",
   "execution_count": 3,
   "metadata": {},
   "outputs": [
    {
     "data": {
      "text/plain": [
       "'T3uJbS5yKBCBxpptkr6nWoU6DFxkUiDAbKk5Ynoqhqfea5i3ef4e'"
      ]
     },
     "execution_count": 3,
     "metadata": {},
     "output_type": "execute_result"
    }
   ],
   "source": [
    "alice_ltc_wallet.get_private_key()"
   ]
  },
  {
   "cell_type": "code",
   "execution_count": 4,
   "metadata": {},
   "outputs": [
    {
     "data": {
      "text/plain": [
       "'1EemPYVexgWcUYv7Q8Yq4DEr5syrTA4hUE'"
      ]
     },
     "execution_count": 4,
     "metadata": {},
     "output_type": "execute_result"
    }
   ],
   "source": [
    "from clove.network import BitcoinCash\n",
    "\n",
    "bch_network = BitcoinCash()\n",
    "\n",
    "# Alice provides her private key. The one below is fake, because of obvious security reasons.\n",
    "#alice_mona_wallet = mona_network.get_wallet(private_key='cSYq9JswNm79GUdyz6TiNKajRTiJEKgv4RxSWGthP3SmUHiX9WKe')\n",
    "alice_bch_wallet = bch_network.get_wallet(private_key='Ky2wwEucgGfr2phJho8iYnvDmxcWeqzk4RZMY4edWoGbAXWeWMF6')\n",
    "\n",
    "alice_bch_wallet.address #1EemPYVexgWcUYv7Q8Yq4DEr5syrTA4hUE"
   ]
  },
  {
   "cell_type": "code",
   "execution_count": 5,
   "metadata": {},
   "outputs": [
    {
     "data": {
      "text/plain": [
       "'Ky2wwEucgGfr2phJho8iYnvDmxcWeqzk4RZMY4edWoGbAXWeWMF6'"
      ]
     },
     "execution_count": 5,
     "metadata": {},
     "output_type": "execute_result"
    }
   ],
   "source": [
    "alice_bch_wallet.get_private_key()"
   ]
  },
  {
   "cell_type": "code",
   "execution_count": 6,
   "metadata": {},
   "outputs": [
    {
     "data": {
      "text/plain": [
       "'1563NVSXWD8kpMn5ECk8ggmMRDjRtjgp2v'"
      ]
     },
     "execution_count": 6,
     "metadata": {},
     "output_type": "execute_result"
    }
   ],
   "source": [
    "bob_bch_wallet = bch_network.get_wallet(private_key='KyiGY1nUn3RdeSJZZzLTA1yhdDhh8Qk3bAvfTzqCG51FjRFEkFnp')\n",
    "\n",
    "bob_bch_wallet.address #1563NVSXWD8kpMn5ECk8ggmMRDjRtjgp2v"
   ]
  },
  {
   "cell_type": "code",
   "execution_count": 7,
   "metadata": {},
   "outputs": [
    {
     "data": {
      "text/plain": [
       "'KyiGY1nUn3RdeSJZZzLTA1yhdDhh8Qk3bAvfTzqCG51FjRFEkFnp'"
      ]
     },
     "execution_count": 7,
     "metadata": {},
     "output_type": "execute_result"
    }
   ],
   "source": [
    "bob_bch_wallet.get_private_key()"
   ]
  },
  {
   "cell_type": "code",
   "execution_count": 4,
   "metadata": {},
   "outputs": [
    {
     "data": {
      "text/plain": [
       "'LRTubrQdtDUGJuGtKfSA862LpzzHgqyWKg'"
      ]
     },
     "execution_count": 4,
     "metadata": {},
     "output_type": "execute_result"
    }
   ],
   "source": [
    "# Bob provides his private key. The one below is fake, because of obvious security reasons.\n",
    "bob_ltc_wallet = ltc_network.get_wallet(private_key='T9moArvMavB4fNWzTzAs39BKNsgJRYT7zLjneKsrkd57d5o3hyHQ')\n",
    "\n",
    "bob_ltc_wallet.address #LRTubrQdtDUGJuGtKfSA862LpzzHgqyWKg"
   ]
  },
  {
   "cell_type": "code",
   "execution_count": 5,
   "metadata": {},
   "outputs": [
    {
     "data": {
      "text/plain": [
       "'T9moArvMavB4fNWzTzAs39BKNsgJRYT7zLjneKsrkd57d5o3hyHQ'"
      ]
     },
     "execution_count": 5,
     "metadata": {},
     "output_type": "execute_result"
    }
   ],
   "source": [
    "bob_ltc_wallet.get_private_key()"
   ]
  },
  {
   "cell_type": "code",
   "execution_count": 5,
   "metadata": {},
   "outputs": [],
   "source": [
    "from clove.network import Dash\n",
    "\n",
    "dash_network = Dash()\n",
    "#alice_dash_wallet = dash_network.get_new_wallet()\n",
    "alice_dash_wallet = dash_network.get_wallet(private_key='XGt8n5koFqS8SgZNrWLwaiKG3T61UMMU2VubJXesHzMFdPTzLumY')\n",
    "#bob_dash_wallet = dash_network.get_new_wallet()\n",
    "bob_dash_wallet = dash_network.get_wallet(private_key='XDUKdcq9P6iuWaLife1CSWTcdw32uH3vRZKPiEYtaZenYxUGrLyV')"
   ]
  },
  {
   "cell_type": "code",
   "execution_count": 6,
   "metadata": {},
   "outputs": [
    {
     "data": {
      "text/plain": [
       "'Xbf2kt6Yf8enaFL8XFHGiz2XYL1DhpcVLS'"
      ]
     },
     "execution_count": 6,
     "metadata": {},
     "output_type": "execute_result"
    }
   ],
   "source": [
    "alice_dash_wallet.address #Xbf2kt6Yf8enaFL8XFHGiz2XYL1DhpcVLS"
   ]
  },
  {
   "cell_type": "code",
   "execution_count": 9,
   "metadata": {},
   "outputs": [
    {
     "data": {
      "text/plain": [
       "'Xh9PGgTd8fr1rCNSQDg8zH31ugyTN88d7n'"
      ]
     },
     "execution_count": 9,
     "metadata": {},
     "output_type": "execute_result"
    }
   ],
   "source": [
    "bob_dash_wallet.address #Xh9PGgTd8fr1rCNSQDg8zH31ugyTN88d7n"
   ]
  },
  {
   "cell_type": "code",
   "execution_count": 10,
   "metadata": {},
   "outputs": [
    {
     "data": {
      "text/plain": [
       "'XGt8n5koFqS8SgZNrWLwaiKG3T61UMMU2VubJXesHzMFdPTzLumY'"
      ]
     },
     "execution_count": 10,
     "metadata": {},
     "output_type": "execute_result"
    }
   ],
   "source": [
    "alice_dash_wallet.get_private_key()"
   ]
  },
  {
   "cell_type": "code",
   "execution_count": 11,
   "metadata": {},
   "outputs": [
    {
     "data": {
      "text/plain": [
       "'XDUKdcq9P6iuWaLife1CSWTcdw32uH3vRZKPiEYtaZenYxUGrLyV'"
      ]
     },
     "execution_count": 11,
     "metadata": {},
     "output_type": "execute_result"
    }
   ],
   "source": [
    "bob_dash_wallet.get_private_key()"
   ]
  },
  {
   "cell_type": "markdown",
   "metadata": {},
   "source": [
    "## 2. They Share Both Addresses to the Other One"
   ]
  },
  {
   "cell_type": "code",
   "execution_count": 7,
   "metadata": {},
   "outputs": [],
   "source": [
    "import qrcode"
   ]
  },
  {
   "cell_type": "code",
   "execution_count": 8,
   "metadata": {},
   "outputs": [
    {
     "data": {
      "image/png": "[encoded data removed]",
      "text/plain": [
       "<qrcode.image.pil.PilImage at 0x1143f26a0>"
      ]
     },
     "execution_count": 8,
     "metadata": {},
     "output_type": "execute_result"
    }
   ],
   "source": [
    "# What Alice sees:\n",
    "bob_dash_address = bob_dash_wallet.address\n",
    "bob_ltc_address = 'LRTubrQdtDUGJuGtKfSA862LpzzHgqyWKg'\n",
    "bob_ini_funds = qrcode.make(bob_ltc_address)\n",
    "bob_ini_funds"
   ]
  },
  {
   "cell_type": "code",
   "execution_count": 9,
   "metadata": {},
   "outputs": [
    {
     "data": {
      "image/png": "[encoded data removed]",
      "text/plain": [
       "<qrcode.image.pil.PilImage at 0x1143f2f60>"
      ]
     },
     "execution_count": 9,
     "metadata": {},
     "output_type": "execute_result"
    }
   ],
   "source": [
    "# What Bob sees:\n",
    "alice_dash_address = alice_dash_wallet.address\n",
    "alice_ltc_address = 'LWZm6ZzCFQMP98vkYjFnLQJrPVcmEL6rfg'\n",
    "alice_ini_funds = qrcode.make(alice_dash_address)\n",
    "alice_ini_funds"
   ]
  },
  {
   "cell_type": "markdown",
   "metadata": {},
   "source": [
    "## 3. Alice is initializing an atomic swap transaction using BitcoinCash\n",
    "\n",
    "We would have to have initial addresses funded to check this peace"
   ]
  },
  {
   "cell_type": "code",
   "execution_count": 11,
   "metadata": {},
   "outputs": [
    {
     "name": "stderr",
     "output_type": "stream",
     "text": [
      "2020-01-13 20:36:14 oscars-mbp.dyndns.rice.edu root[70045] DEBUG <class 'type'>\n",
      "2020-01-13 20:36:14 oscars-mbp.dyndns.rice.edu root[70045] DEBUG <class 'clove.network.bitcoin_based.dash.Dash'>\n",
      "2020-01-13 20:36:14 oscars-mbp.dyndns.rice.edu root[70045] DEBUG   Requesting: https://insight.dash.org/insight-api/addrs/Xbf2kt6Yf8enaFL8XFHGiz2XYL1DhpcVLS/utxo\n",
      "2020-01-13 20:36:14 oscars-mbp.dyndns.rice.edu urllib3.connectionpool[70045] DEBUG Starting new HTTPS connection (1): insight.dash.org:443\n",
      "2020-01-13 20:36:16 oscars-mbp.dyndns.rice.edu urllib3.connectionpool[70045] DEBUG https://insight.dash.org:443 \"GET /insight-api/addrs/Xbf2kt6Yf8enaFL8XFHGiz2XYL1DhpcVLS/utxo HTTP/1.1\" 200 274\n",
      "2020-01-13 20:36:16 oscars-mbp.dyndns.rice.edu root[70045] DEBUG Got response: https://insight.dash.org/insight-api/addrs/Xbf2kt6Yf8enaFL8XFHGiz2XYL1DhpcVLS/utxo [1.62s]\n",
      "2020-01-13 20:36:16 oscars-mbp.dyndns.rice.edu root[70045] DEBUG Cannot find enough UTXO's. Found 0.00750682 from 0.02000000.\n",
      "2020-01-13 20:36:16 oscars-mbp.dyndns.rice.edu root[70045] ERROR Cannot get UTXO for address Xbf2kt6Yf8enaFL8XFHGiz2XYL1DhpcVLS\n"
     ]
    }
   ],
   "source": [
    "initial_transaction = dash_network.atomic_swap(\n",
    "    sender_address=alice_dash_wallet.address,\n",
    "    recipient_address=bob_dash_address,\n",
    "    value=0.02,\n",
    ")"
   ]
  },
  {
   "cell_type": "code",
   "execution_count": 16,
   "metadata": {},
   "outputs": [
    {
     "name": "stderr",
     "output_type": "stream",
     "text": [
      "2020-01-13 20:15:31 oscars-mbp.dyndns.rice.edu root[68562] DEBUG   Requesting: https://clove-api.lamden.io/fee/DASH\n",
      "2020-01-13 20:15:31 oscars-mbp.dyndns.rice.edu urllib3.connectionpool[68562] DEBUG Starting new HTTPS connection (1): clove-api.lamden.io:443\n",
      "2020-01-13 20:15:31 oscars-mbp.dyndns.rice.edu urllib3.connectionpool[68562] DEBUG https://clove-api.lamden.io:443 \"GET /fee/DASH HTTP/1.1\" 200 35\n",
      "2020-01-13 20:15:31 oscars-mbp.dyndns.rice.edu root[68562] DEBUG Got response: https://clove-api.lamden.io/fee/DASH [0.30s]\n"
     ]
    },
    {
     "data": {
      "text/plain": [
       "'\\ninitial_transaction.fee = 0.000005\\ninitial_transaction.add_fee()\\ninitial_transaction.sign(alice_bch_wallet)\\n'"
      ]
     },
     "execution_count": 16,
     "metadata": {},
     "output_type": "execute_result"
    }
   ],
   "source": [
    "initial_transaction.add_fee_and_sign(alice_dash_wallet)\n",
    "\"\"\"\n",
    "initial_transaction.fee = 0.000005\n",
    "initial_transaction.add_fee()\n",
    "initial_transaction.sign(alice_bch_wallet)\n",
    "\"\"\""
   ]
  },
  {
   "cell_type": "code",
   "execution_count": 17,
   "metadata": {},
   "outputs": [
    {
     "data": {
      "text/plain": [
       "{'contract': '63a614b8bd58f129d0c298e5b8bb6e89ace912cab2d8ba8876a91446d5d02bf70dc8702342e8076309da5b2101c6c0670439c71f5eb17576a9140aa069cca424629ef5c0179b1665ceceaf5bcc466888ac',\n",
       " 'contract_address': '7f99Jk3k95tghtcnEyPTJDhwECPXxTHZp1',\n",
       " 'contract_transaction': '0100000001be92c2884737c4a822ac49dbe94649d1ac8072ddeb70d47ec05fff92f6ed51dd000000006a473044022076ca34e6e272aecee99725809a0c86a3a4194d5de4b5b96f8ae41ee12829168902201f7bf0632b15dbb7491f1210a13ac2c416111de9539239200c56ebb3e7b1b34801210372e9019ff11324de253aab1614ad7436b293e6680e8cf32df488fb24a1b8e3ea000000000280841e000000000017a9148baad04b459a7cba4089fb622571822aa78574b3875a740b00000000001976a9140aa069cca424629ef5c0179b1665ceceaf5bcc4688ac00000000',\n",
       " 'transaction_address': '01a85e7b258a3afb5522ec73f97fbf959ca419bf6f0514f7cc4918348ab8d749',\n",
       " 'fee': 2.167e-05,\n",
       " 'fee_per_kb': 9.675e-05,\n",
       " 'fee_per_kb_text': '0.00009675 DASH / 1 kB',\n",
       " 'fee_text': '0.00002167 DASH',\n",
       " 'locktime': datetime.datetime(2020, 1, 16, 2, 15, 21, 707344),\n",
       " 'recipient_address': 'Xh9PGgTd8fr1rCNSQDg8zH31ugyTN88d7n',\n",
       " 'refund_address': 'Xbf2kt6Yf8enaFL8XFHGiz2XYL1DhpcVLS',\n",
       " 'secret': 'c7e1b4004edf35a2a8dede92bd33d8f00dee67cf3a53d738690a9904f874b6d8',\n",
       " 'secret_hash': 'b8bd58f129d0c298e5b8bb6e89ace912cab2d8ba',\n",
       " 'size': 223,\n",
       " 'size_text': '223 bytes',\n",
       " 'value': 0.02,\n",
       " 'value_text': '0.02000000 DASH',\n",
       " 'transaction_link': 'https://insight.dash.org/insight/tx/01a85e7b258a3afb5522ec73f97fbf959ca419bf6f0514f7cc4918348ab8d749'}"
      ]
     },
     "execution_count": 17,
     "metadata": {},
     "output_type": "execute_result"
    }
   ],
   "source": [
    "initial_transaction.show_details()"
   ]
  },
  {
   "cell_type": "code",
   "execution_count": 21,
   "metadata": {},
   "outputs": [
    {
     "data": {
      "text/plain": [
       "'01a85e7b258a3afb5522ec73f97fbf959ca419bf6f0514f7cc4918348ab8d749'"
      ]
     },
     "execution_count": 21,
     "metadata": {},
     "output_type": "execute_result"
    }
   ],
   "source": [
    " initial_transaction.show_details()[\"transaction_address\"]"
   ]
  },
  {
   "cell_type": "code",
   "execution_count": 22,
   "metadata": {},
   "outputs": [
    {
     "data": {
      "text/plain": [
       "'63a614b8bd58f129d0c298e5b8bb6e89ace912cab2d8ba8876a91446d5d02bf70dc8702342e8076309da5b2101c6c0670439c71f5eb17576a9140aa069cca424629ef5c0179b1665ceceaf5bcc466888ac'"
      ]
     },
     "execution_count": 22,
     "metadata": {},
     "output_type": "execute_result"
    }
   ],
   "source": [
    " initial_transaction.show_details()[\"contract\"]"
   ]
  },
  {
   "cell_type": "code",
   "execution_count": 19,
   "metadata": {},
   "outputs": [
    {
     "name": "stderr",
     "output_type": "stream",
     "text": [
      "2020-01-13 20:16:05 oscars-mbp.dyndns.rice.edu root[68562] DEBUG   Requesting: https://insight.dash.org/insight-api/tx/send\n",
      "2020-01-13 20:16:05 oscars-mbp.dyndns.rice.edu urllib3.connectionpool[68562] DEBUG Starting new HTTPS connection (1): insight.dash.org:443\n",
      "2020-01-13 20:16:06 oscars-mbp.dyndns.rice.edu urllib3.connectionpool[68562] DEBUG https://insight.dash.org:443 \"POST /insight-api/tx/send HTTP/1.1\" 200 75\n",
      "2020-01-13 20:16:06 oscars-mbp.dyndns.rice.edu root[68562] DEBUG Got response: https://insight.dash.org/insight-api/tx/send [0.30s]\n"
     ]
    },
    {
     "data": {
      "text/plain": [
       "'01a85e7b258a3afb5522ec73f97fbf959ca419bf6f0514f7cc4918348ab8d749'"
      ]
     },
     "execution_count": 19,
     "metadata": {},
     "output_type": "execute_result"
    }
   ],
   "source": [
    "initial_transaction.publish()"
   ]
  },
  {
   "cell_type": "code",
   "execution_count": 12,
   "metadata": {},
   "outputs": [
    {
     "name": "stderr",
     "output_type": "stream",
     "text": [
      "2020-01-13 20:39:00 oscars-mbp.dyndns.rice.edu root[70045] DEBUG   Requesting: https://insight.dash.org/insight-api/tx/01a85e7b258a3afb5522ec73f97fbf959ca419bf6f0514f7cc4918348ab8d749\n",
      "2020-01-13 20:39:00 oscars-mbp.dyndns.rice.edu urllib3.connectionpool[70045] DEBUG Starting new HTTPS connection (1): insight.dash.org:443\n",
      "2020-01-13 20:39:01 oscars-mbp.dyndns.rice.edu urllib3.connectionpool[70045] DEBUG https://insight.dash.org:443 \"GET /insight-api/tx/01a85e7b258a3afb5522ec73f97fbf959ca419bf6f0514f7cc4918348ab8d749 HTTP/1.1\" 200 1647\n",
      "2020-01-13 20:39:01 oscars-mbp.dyndns.rice.edu root[70045] DEBUG Got response: https://insight.dash.org/insight-api/tx/01a85e7b258a3afb5522ec73f97fbf959ca419bf6f0514f7cc4918348ab8d749 [0.87s]\n",
      "2020-01-13 20:39:01 oscars-mbp.dyndns.rice.edu root[70045] DEBUG   Requesting: https://insight.dash.org/insight-api/addr/7f99Jk3k95tghtcnEyPTJDhwECPXxTHZp1/balance\n",
      "2020-01-13 20:39:01 oscars-mbp.dyndns.rice.edu urllib3.connectionpool[70045] DEBUG Starting new HTTPS connection (1): insight.dash.org:443\n",
      "2020-01-13 20:39:02 oscars-mbp.dyndns.rice.edu urllib3.connectionpool[70045] DEBUG https://insight.dash.org:443 \"GET /insight-api/addr/7f99Jk3k95tghtcnEyPTJDhwECPXxTHZp1/balance HTTP/1.1\" 200 7\n",
      "2020-01-13 20:39:02 oscars-mbp.dyndns.rice.edu root[70045] DEBUG Got response: https://insight.dash.org/insight-api/addr/7f99Jk3k95tghtcnEyPTJDhwECPXxTHZp1/balance [0.61s]\n"
     ]
    }
   ],
   "source": [
    "alice_contract = dash_network.audit_contract(\n",
    "    #contract=initial_transaction.show_details()[\"contract\"],\n",
    "    contract='63a614b8bd58f129d0c298e5b8bb6e89ace912cab2d8ba8876a91446d5d02bf70dc8702342e8076309da5b2101c6c0670439c71f5eb17576a9140aa069cca424629ef5c0179b1665ceceaf5bcc466888ac',\n",
    "    #transaction_address= initial_transaction.show_details()[\"transaction_address\"],\n",
    "    transaction_address= '01a85e7b258a3afb5522ec73f97fbf959ca419bf6f0514f7cc4918348ab8d749',\n",
    ")"
   ]
  },
  {
   "cell_type": "code",
   "execution_count": 14,
   "metadata": {},
   "outputs": [
    {
     "data": {
      "text/plain": [
       "{'contract_address': '7f99Jk3k95tghtcnEyPTJDhwECPXxTHZp1',\n",
       " 'confirmations': 3,\n",
       " 'transaction_address': '01a85e7b258a3afb5522ec73f97fbf959ca419bf6f0514f7cc4918348ab8d749',\n",
       " 'transaction_link': 'https://insight.dash.org/insight/tx/01a85e7b258a3afb5522ec73f97fbf959ca419bf6f0514f7cc4918348ab8d749',\n",
       " 'locktime': datetime.datetime(2020, 1, 16, 2, 15, 21),\n",
       " 'recipient_address': 'Xh9PGgTd8fr1rCNSQDg8zH31ugyTN88d7n',\n",
       " 'refund_address': 'Xbf2kt6Yf8enaFL8XFHGiz2XYL1DhpcVLS',\n",
       " 'secret_hash': 'b8bd58f129d0c298e5b8bb6e89ace912cab2d8ba',\n",
       " 'value': 0.02,\n",
       " 'value_text': '0.02000000 DASH'}"
      ]
     },
     "execution_count": 14,
     "metadata": {},
     "output_type": "execute_result"
    }
   ],
   "source": [
    "alice_contract.show_details()"
   ]
  },
  {
   "cell_type": "code",
   "execution_count": 15,
   "metadata": {},
   "outputs": [
    {
     "name": "stderr",
     "output_type": "stream",
     "text": [
      "2020-01-13 20:40:10 oscars-mbp.dyndns.rice.edu root[70045] DEBUG   Requesting: https://chainz.cryptoid.info/ltc/api.dws?q=unspent&key=aa193d9b448c&active=LRTubrQdtDUGJuGtKfSA862LpzzHgqyWKg\n",
      "2020-01-13 20:40:13 oscars-mbp.dyndns.rice.edu urllib3.connectionpool[70045] DEBUG Starting new HTTPS connection (1): chainz.cryptoid.info:443\n",
      "2020-01-13 20:40:13 oscars-mbp.dyndns.rice.edu urllib3.connectionpool[70045] DEBUG https://chainz.cryptoid.info:443 \"GET /ltc/api.dws?q=unspent&key=aa193d9b448c&active=LRTubrQdtDUGJuGtKfSA862LpzzHgqyWKg HTTP/1.1\" 200 None\n",
      "2020-01-13 20:40:13 oscars-mbp.dyndns.rice.edu root[70045] DEBUG Got response: https://chainz.cryptoid.info/ltc/api.dws?q=unspent&key=aa193d9b448c&active=LRTubrQdtDUGJuGtKfSA862LpzzHgqyWKg [3.38s]\n"
     ]
    }
   ],
   "source": [
    "participate_transaction = alice_contract.participate(\n",
    "    symbol='LTC',\n",
    "    sender_address=bob_ltc_wallet.address,\n",
    "    recipient_address=alice_ltc_address,\n",
    "    value=0.019,\n",
    ")\n"
   ]
  },
  {
   "cell_type": "code",
   "execution_count": 16,
   "metadata": {},
   "outputs": [
    {
     "name": "stderr",
     "output_type": "stream",
     "text": [
      "2020-01-13 20:41:00 oscars-mbp.dyndns.rice.edu root[70045] DEBUG   Requesting: https://clove-api.lamden.io/fee/LTC\n",
      "2020-01-13 20:41:00 oscars-mbp.dyndns.rice.edu urllib3.connectionpool[70045] DEBUG Starting new HTTPS connection (1): clove-api.lamden.io:443\n",
      "2020-01-13 20:41:04 oscars-mbp.dyndns.rice.edu urllib3.connectionpool[70045] DEBUG https://clove-api.lamden.io:443 \"GET /fee/LTC HTTP/1.1\" 200 35\n",
      "2020-01-13 20:41:04 oscars-mbp.dyndns.rice.edu root[70045] DEBUG Got response: https://clove-api.lamden.io/fee/LTC [4.50s]\n"
     ]
    }
   ],
   "source": [
    "participate_transaction.add_fee_and_sign(bob_ltc_wallet)"
   ]
  },
  {
   "cell_type": "code",
   "execution_count": 17,
   "metadata": {},
   "outputs": [
    {
     "data": {
      "text/plain": [
       "{'contract': '63a614b8bd58f129d0c298e5b8bb6e89ace912cab2d8ba8876a9147c6861b8e100731bdd0535a1e3f20ebdfaa9a1ce67048d7b1e5eb17576a91444745b4733d4bfbaff6220c7ca56f05ec46b6a846888ac',\n",
       " 'contract_address': 'MJyyw7Y7qRhgBwPpErx9HHgMTaek8n3h3m',\n",
       " 'contract_transaction': '01000000015e1d1def0dac32e8653b630441a60675243ee1d14236e5461a709c286cbeb863000000006b4830450221008a2daa8d75bf15fc462232bc813178da088572ece36df3988dab322ff236c2c302207a34c1ad4308d209d3195cd73126c587a46a7fce258d4327568b694a79dd5777012102c89ec243da6162cc9d7b6a5b5b680b376938f5d5cfaeb50899e5cd1de37a11f30000000002e0fd1c000000000017a9147992dddafd63bc4f46d4147d13e0986395a1849a87f4183d00000000001976a91444745b4733d4bfbaff6220c7ca56f05ec46b6a8488ac00000000',\n",
       " 'transaction_address': 'fdad4c65d67201359694b0ce1296f052784f05bdf6569c4bf83eaa35285612fa',\n",
       " 'fee': 2.66e-06,\n",
       " 'fee_per_kb': 1.192e-05,\n",
       " 'fee_per_kb_text': '0.00001192 LTC / 1 kB',\n",
       " 'fee_text': '0.00000266 LTC',\n",
       " 'locktime': datetime.datetime(2020, 1, 15, 2, 40, 13, 553231),\n",
       " 'recipient_address': 'LWZm6ZzCFQMP98vkYjFnLQJrPVcmEL6rfg',\n",
       " 'refund_address': 'LRTubrQdtDUGJuGtKfSA862LpzzHgqyWKg',\n",
       " 'secret': '',\n",
       " 'secret_hash': 'b8bd58f129d0c298e5b8bb6e89ace912cab2d8ba',\n",
       " 'size': 224,\n",
       " 'size_text': '224 bytes',\n",
       " 'value': 0.019,\n",
       " 'value_text': '0.01900000 LTC',\n",
       " 'transaction_link': 'https://chainz.cryptoid.info/ltc/tx.dws?fdad4c65d67201359694b0ce1296f052784f05bdf6569c4bf83eaa35285612fa.htm'}"
      ]
     },
     "execution_count": 17,
     "metadata": {},
     "output_type": "execute_result"
    }
   ],
   "source": [
    "participate_transaction.show_details()"
   ]
  },
  {
   "cell_type": "code",
   "execution_count": 18,
   "metadata": {},
   "outputs": [
    {
     "name": "stderr",
     "output_type": "stream",
     "text": [
      "2020-01-13 20:41:59 oscars-mbp.dyndns.rice.edu root[70045] DEBUG Getting nodes from seed node dnsseed.koin-project.com\n",
      "2020-01-13 20:42:09 oscars-mbp.dyndns.rice.edu root[70045] DEBUG Getting nodes from seed node seed-a.litecoin.loshan.co.uk\n",
      "2020-01-13 20:42:09 oscars-mbp.dyndns.rice.edu root[70045] DEBUG Got 24 nodes\n",
      "2020-01-13 20:42:10 oscars-mbp.dyndns.rice.edu root[70045] DEBUG [47.74.131.57] Connection established, sending version packet\n",
      "2020-01-13 20:42:10 oscars-mbp.dyndns.rice.edu root[70045] DEBUG Saving version\n",
      "2020-01-13 20:42:10 oscars-mbp.dyndns.rice.edu root[70045] DEBUG Found b'VERSION', 1 more to catch\n",
      "2020-01-13 20:42:10 oscars-mbp.dyndns.rice.edu root[70045] DEBUG Found b'VERACK', 0 more to catch\n",
      "2020-01-13 20:42:10 oscars-mbp.dyndns.rice.edu root[70045] DEBUG [47.74.131.57] Got version, sending version acknowledge message\n",
      "2020-01-13 20:42:10 oscars-mbp.dyndns.rice.edu root[70045] DEBUG Got ping, sending pong.\n"
     ]
    },
    {
     "name": "stdout",
     "output_type": "stream",
     "text": [
      "Command 'b'sendheaders'' not in messagemap\n",
      "Command 'b'sendcmpct'' not in messagemap\n",
      "Command 'b'sendcmpct'' not in messagemap\n"
     ]
    },
    {
     "name": "stderr",
     "output_type": "stream",
     "text": [
      "2020-01-13 20:42:10 oscars-mbp.dyndns.rice.edu root[70045] DEBUG Found b'GETDATA', 0 more to catch\n",
      "2020-01-13 20:42:10 oscars-mbp.dyndns.rice.edu root[70045] INFO [47.74.131.57] Node responded correctly.\n",
      "2020-01-13 20:42:10 oscars-mbp.dyndns.rice.edu root[70045] INFO [47.74.131.57] Looking for reject message.\n"
     ]
    },
    {
     "name": "stdout",
     "output_type": "stream",
     "text": [
      "Command 'b'feefilter'' not in messagemap\n"
     ]
    },
    {
     "name": "stderr",
     "output_type": "stream",
     "text": [
      "2020-01-13 20:42:22 oscars-mbp.dyndns.rice.edu root[70045] INFO [47.74.131.57] Reject message not found.\n",
      "2020-01-13 20:42:22 oscars-mbp.dyndns.rice.edu root[70045] INFO [47.74.131.57] Transaction fdad4c65d67201359694b0ce1296f052784f05bdf6569c4bf83eaa35285612fa has just been sent.\n",
      "2020-01-13 20:42:22 oscars-mbp.dyndns.rice.edu root[70045] INFO Transaction broadcast is successful. End of broadcasting process.\n"
     ]
    },
    {
     "data": {
      "text/plain": [
       "'fdad4c65d67201359694b0ce1296f052784f05bdf6569c4bf83eaa35285612fa'"
      ]
     },
     "execution_count": 18,
     "metadata": {},
     "output_type": "execute_result"
    }
   ],
   "source": [
    "participate_transaction.publish()"
   ]
  },
  {
   "cell_type": "code",
   "execution_count": 19,
   "metadata": {},
   "outputs": [
    {
     "name": "stderr",
     "output_type": "stream",
     "text": [
      "2020-01-13 20:44:13 oscars-mbp.dyndns.rice.edu root[70045] DEBUG   Requesting: https://chainz.cryptoid.info/ltc/api.dws?q=txinfo&t=fdad4c65d67201359694b0ce1296f052784f05bdf6569c4bf83eaa35285612fa\n",
      "2020-01-13 20:44:13 oscars-mbp.dyndns.rice.edu urllib3.connectionpool[70045] DEBUG Starting new HTTPS connection (1): chainz.cryptoid.info:443\n",
      "2020-01-13 20:44:13 oscars-mbp.dyndns.rice.edu urllib3.connectionpool[70045] DEBUG https://chainz.cryptoid.info:443 \"GET /ltc/api.dws?q=txinfo&t=fdad4c65d67201359694b0ce1296f052784f05bdf6569c4bf83eaa35285612fa HTTP/1.1\" 200 None\n",
      "2020-01-13 20:44:13 oscars-mbp.dyndns.rice.edu root[70045] DEBUG Got response: https://chainz.cryptoid.info/ltc/api.dws?q=txinfo&t=fdad4c65d67201359694b0ce1296f052784f05bdf6569c4bf83eaa35285612fa [0.32s]\n",
      "2020-01-13 20:44:13 oscars-mbp.dyndns.rice.edu root[70045] DEBUG   Requesting: https://chainz.cryptoid.info/ltc/api.dws?q=getbalance&a=MJyyw7Y7qRhgBwPpErx9HHgMTaek8n3h3m&key=aa193d9b448c\n",
      "2020-01-13 20:44:13 oscars-mbp.dyndns.rice.edu urllib3.connectionpool[70045] DEBUG Starting new HTTPS connection (1): chainz.cryptoid.info:443\n",
      "2020-01-13 20:44:14 oscars-mbp.dyndns.rice.edu urllib3.connectionpool[70045] DEBUG https://chainz.cryptoid.info:443 \"GET /ltc/api.dws?q=getbalance&a=MJyyw7Y7qRhgBwPpErx9HHgMTaek8n3h3m&key=aa193d9b448c HTTP/1.1\" 200 5\n",
      "2020-01-13 20:44:14 oscars-mbp.dyndns.rice.edu root[70045] DEBUG Got response: https://chainz.cryptoid.info/ltc/api.dws?q=getbalance&a=MJyyw7Y7qRhgBwPpErx9HHgMTaek8n3h3m&key=aa193d9b448c [0.34s]\n"
     ]
    }
   ],
   "source": [
    "bob_contract = ltc_network.audit_contract(\n",
    "    contract=participate_transaction.show_details()['contract'],\n",
    "    transaction_address=participate_transaction.show_details()['transaction_address']\n",
    ")"
   ]
  },
  {
   "cell_type": "code",
   "execution_count": 20,
   "metadata": {},
   "outputs": [
    {
     "data": {
      "text/plain": [
       "{'contract_address': 'MJyyw7Y7qRhgBwPpErx9HHgMTaek8n3h3m',\n",
       " 'confirmations': 2,\n",
       " 'transaction_address': 'fdad4c65d67201359694b0ce1296f052784f05bdf6569c4bf83eaa35285612fa',\n",
       " 'transaction_link': 'https://chainz.cryptoid.info/ltc/tx.dws?fdad4c65d67201359694b0ce1296f052784f05bdf6569c4bf83eaa35285612fa.htm',\n",
       " 'locktime': datetime.datetime(2020, 1, 15, 2, 40, 13),\n",
       " 'recipient_address': 'LWZm6ZzCFQMP98vkYjFnLQJrPVcmEL6rfg',\n",
       " 'refund_address': 'LRTubrQdtDUGJuGtKfSA862LpzzHgqyWKg',\n",
       " 'secret_hash': 'b8bd58f129d0c298e5b8bb6e89ace912cab2d8ba',\n",
       " 'value': 0.019,\n",
       " 'value_text': '0.01900000 LTC'}"
      ]
     },
     "execution_count": 20,
     "metadata": {},
     "output_type": "execute_result"
    }
   ],
   "source": [
    "bob_contract.show_details()"
   ]
  },
  {
   "cell_type": "code",
   "execution_count": 23,
   "metadata": {},
   "outputs": [],
   "source": [
    "#alice_redeem = bob_contract.redeem(secret=initial_transaction.show_details()['secret'], wallet=alice_ltc_wallet)\n",
    "alice_redeem = bob_contract.redeem(secret='c7e1b4004edf35a2a8dede92bd33d8f00dee67cf3a53d738690a9904f874b6d8', wallet=alice_ltc_wallet)\n"
   ]
  },
  {
   "cell_type": "code",
   "execution_count": 24,
   "metadata": {},
   "outputs": [
    {
     "name": "stderr",
     "output_type": "stream",
     "text": [
      "2020-01-13 20:46:53 oscars-mbp.dyndns.rice.edu root[70045] DEBUG   Requesting: https://clove-api.lamden.io/fee/LTC\n",
      "2020-01-13 20:46:53 oscars-mbp.dyndns.rice.edu urllib3.connectionpool[70045] DEBUG Starting new HTTPS connection (1): clove-api.lamden.io:443\n",
      "2020-01-13 20:46:53 oscars-mbp.dyndns.rice.edu urllib3.connectionpool[70045] DEBUG https://clove-api.lamden.io:443 \"GET /fee/LTC HTTP/1.1\" 200 35\n",
      "2020-01-13 20:46:53 oscars-mbp.dyndns.rice.edu root[70045] DEBUG Got response: https://clove-api.lamden.io/fee/LTC [0.14s]\n"
     ]
    }
   ],
   "source": [
    "alice_redeem.add_fee_and_sign()"
   ]
  },
  {
   "cell_type": "code",
   "execution_count": 28,
   "metadata": {},
   "outputs": [
    {
     "name": "stderr",
     "output_type": "stream",
     "text": [
      "2020-01-13 20:49:57 oscars-mbp.dyndns.rice.edu root[70045] DEBUG Getting nodes from seed node dnsseed.litecoinpool.org\n",
      "2020-01-13 20:49:57 oscars-mbp.dyndns.rice.edu root[70045] DEBUG Got 24 nodes\n",
      "2020-01-13 20:49:58 oscars-mbp.dyndns.rice.edu root[70045] DEBUG [167.86.87.224] Connection established, sending version packet\n",
      "2020-01-13 20:49:58 oscars-mbp.dyndns.rice.edu root[70045] DEBUG Saving version\n",
      "2020-01-13 20:49:58 oscars-mbp.dyndns.rice.edu root[70045] DEBUG Found b'VERSION', 1 more to catch\n",
      "2020-01-13 20:49:58 oscars-mbp.dyndns.rice.edu root[70045] DEBUG Found b'VERACK', 0 more to catch\n",
      "2020-01-13 20:49:58 oscars-mbp.dyndns.rice.edu root[70045] DEBUG [167.86.87.224] Got version, sending version acknowledge message\n",
      "2020-01-13 20:49:58 oscars-mbp.dyndns.rice.edu root[70045] DEBUG Got ping, sending pong.\n",
      "2020-01-13 20:49:58 oscars-mbp.dyndns.rice.edu root[70045] DEBUG Found b'GETDATA', 0 more to catch\n",
      "2020-01-13 20:49:58 oscars-mbp.dyndns.rice.edu root[70045] INFO [167.86.87.224] Node responded correctly.\n",
      "2020-01-13 20:49:58 oscars-mbp.dyndns.rice.edu root[70045] INFO [167.86.87.224] Looking for reject message.\n"
     ]
    },
    {
     "name": "stdout",
     "output_type": "stream",
     "text": [
      "Command 'b'sendheaders'' not in messagemap\n",
      "Command 'b'sendcmpct'' not in messagemap\n",
      "Command 'b'sendcmpct'' not in messagemap\n",
      "Command 'b'feefilter'' not in messagemap\n"
     ]
    },
    {
     "name": "stderr",
     "output_type": "stream",
     "text": [
      "2020-01-13 20:50:16 oscars-mbp.dyndns.rice.edu root[70045] INFO [167.86.87.224] Reject message not found.\n",
      "2020-01-13 20:50:16 oscars-mbp.dyndns.rice.edu root[70045] INFO [167.86.87.224] Transaction 21e0f916fad8a9258ae3a9d3ef97bddfbefe2ed68a81de86881910c6b3d31d45 has just been sent.\n",
      "2020-01-13 20:50:16 oscars-mbp.dyndns.rice.edu root[70045] INFO Transaction broadcast is successful. End of broadcasting process.\n"
     ]
    },
    {
     "data": {
      "text/plain": [
       "'21e0f916fad8a9258ae3a9d3ef97bddfbefe2ed68a81de86881910c6b3d31d45'"
      ]
     },
     "execution_count": 28,
     "metadata": {},
     "output_type": "execute_result"
    }
   ],
   "source": [
    "alice_redeem.publish()"
   ]
  },
  {
   "cell_type": "code",
   "execution_count": 29,
   "metadata": {},
   "outputs": [
    {
     "data": {
      "text/plain": [
       "{'transaction': '0100000001fa12562835aa3ef84b9c56f6bd054f7852f09612ceb09496350172d6654cadfd00000000e04830450221008d3ce130e95de338f9bdef2147b34c4e034c43f541f0feed932702aafb0b527702205121f44af32ecc3a14da512d5b9054c1db42f37831442b1a1978d2e88377939301210341e28aa73498d04c248ced2d4a8fc2af6cd875ddc1c06a3f0d8cd8bcfab361df20c7e1b4004edf35a2a8dede92bd33d8f00dee67cf3a53d738690a9904f874b6d8514c5163a614b8bd58f129d0c298e5b8bb6e89ace912cab2d8ba8876a9147c6861b8e100731bdd0535a1e3f20ebdfaa9a1ce67048d7b1e5eb17576a91444745b4733d4bfbaff6220c7ca56f05ec46b6a846888ac000000000170fc1c00000000001976a9147c6861b8e100731bdd0535a1e3f20ebdfaa9a1ce88ac00000000',\n",
       " 'transaction_address': '21e0f916fad8a9258ae3a9d3ef97bddfbefe2ed68a81de86881910c6b3d31d45',\n",
       " 'fee': 3.68e-06,\n",
       " 'fee_per_kb': 1.192e-05,\n",
       " 'fee_per_kb_text': '0.00001192 LTC / 1 kB',\n",
       " 'fee_text': '0.00000368 LTC',\n",
       " 'recipient_address': 'LWZm6ZzCFQMP98vkYjFnLQJrPVcmEL6rfg',\n",
       " 'size': 309,\n",
       " 'size_text': '309 bytes',\n",
       " 'value': 0.019,\n",
       " 'value_text': '0.01900000 LTC',\n",
       " 'transaction_link': 'https://chainz.cryptoid.info/ltc/tx.dws?21e0f916fad8a9258ae3a9d3ef97bddfbefe2ed68a81de86881910c6b3d31d45.htm'}"
      ]
     },
     "execution_count": 29,
     "metadata": {},
     "output_type": "execute_result"
    }
   ],
   "source": [
    "alice_redeem.show_details()"
   ]
  },
  {
   "cell_type": "code",
   "execution_count": 34,
   "metadata": {},
   "outputs": [
    {
     "name": "stderr",
     "output_type": "stream",
     "text": [
      "2020-01-13 20:56:11 oscars-mbp.dyndns.rice.edu root[70045] DEBUG   Requesting: https://chainz.cryptoid.info/ltc/api.dws?q=multiaddr&active=MJyyw7Y7qRhgBwPpErx9HHgMTaek8n3h3m&key=aa193d9b448c\n",
      "2020-01-13 20:56:11 oscars-mbp.dyndns.rice.edu urllib3.connectionpool[70045] DEBUG Starting new HTTPS connection (1): chainz.cryptoid.info:443\n",
      "2020-01-13 20:56:12 oscars-mbp.dyndns.rice.edu urllib3.connectionpool[70045] DEBUG https://chainz.cryptoid.info:443 \"GET /ltc/api.dws?q=multiaddr&active=MJyyw7Y7qRhgBwPpErx9HHgMTaek8n3h3m&key=aa193d9b448c HTTP/1.1\" 200 None\n",
      "2020-01-13 20:56:12 oscars-mbp.dyndns.rice.edu root[70045] DEBUG Got response: https://chainz.cryptoid.info/ltc/api.dws?q=multiaddr&active=MJyyw7Y7qRhgBwPpErx9HHgMTaek8n3h3m&key=aa193d9b448c [0.34s]\n",
      "2020-01-13 20:56:12 oscars-mbp.dyndns.rice.edu root[70045] WARNING Using undocumented endpoint used by chainz.cryptoid.info site.\n",
      "2020-01-13 20:56:12 oscars-mbp.dyndns.rice.edu root[70045] DEBUG   Requesting: https://chainz.cryptoid.info/explorer/tx.raw.dws?coin=ltc&id=21e0f916fad8a9258ae3a9d3ef97bddfbefe2ed68a81de86881910c6b3d31d45\n",
      "2020-01-13 20:56:12 oscars-mbp.dyndns.rice.edu urllib3.connectionpool[70045] DEBUG Starting new HTTPS connection (1): chainz.cryptoid.info:443\n",
      "2020-01-13 20:56:12 oscars-mbp.dyndns.rice.edu urllib3.connectionpool[70045] DEBUG https://chainz.cryptoid.info:443 \"GET /explorer/tx.raw.dws?coin=ltc&id=21e0f916fad8a9258ae3a9d3ef97bddfbefe2ed68a81de86881910c6b3d31d45 HTTP/1.1\" 200 None\n",
      "2020-01-13 20:56:12 oscars-mbp.dyndns.rice.edu root[70045] DEBUG Got response: https://chainz.cryptoid.info/explorer/tx.raw.dws?coin=ltc&id=21e0f916fad8a9258ae3a9d3ef97bddfbefe2ed68a81de86881910c6b3d31d45 [0.44s]\n"
     ]
    },
    {
     "data": {
      "text/plain": [
       "'c7e1b4004edf35a2a8dede92bd33d8f00dee67cf3a53d738690a9904f874b6d8'"
      ]
     },
     "execution_count": 34,
     "metadata": {},
     "output_type": "execute_result"
    }
   ],
   "source": [
    "contract_address = participate_transaction.show_details()['contract_address']\n",
    "secret = ltc_network.extract_secret_from_redeem_transaction(contract_address)\n",
    "secret"
   ]
  },
  {
   "cell_type": "code",
   "execution_count": 35,
   "metadata": {},
   "outputs": [
    {
     "data": {
      "text/plain": [
       "'c7e1b4004edf35a2a8dede92bd33d8f00dee67cf3a53d738690a9904f874b6d8'"
      ]
     },
     "execution_count": 35,
     "metadata": {},
     "output_type": "execute_result"
    }
   ],
   "source": [
    "secret"
   ]
  },
  {
   "cell_type": "code",
   "execution_count": 36,
   "metadata": {},
   "outputs": [],
   "source": [
    "bob_redeem = alice_contract.redeem(secret=secret, wallet=bob_dash_wallet)"
   ]
  },
  {
   "cell_type": "code",
   "execution_count": 37,
   "metadata": {},
   "outputs": [
    {
     "name": "stderr",
     "output_type": "stream",
     "text": [
      "2020-01-13 20:58:22 oscars-mbp.dyndns.rice.edu root[70045] DEBUG   Requesting: https://clove-api.lamden.io/fee/DASH\n",
      "2020-01-13 20:58:22 oscars-mbp.dyndns.rice.edu urllib3.connectionpool[70045] DEBUG Starting new HTTPS connection (1): clove-api.lamden.io:443\n",
      "2020-01-13 20:58:22 oscars-mbp.dyndns.rice.edu urllib3.connectionpool[70045] DEBUG https://clove-api.lamden.io:443 \"GET /fee/DASH HTTP/1.1\" 200 35\n",
      "2020-01-13 20:58:22 oscars-mbp.dyndns.rice.edu root[70045] DEBUG Got response: https://clove-api.lamden.io/fee/DASH [0.39s]\n"
     ]
    }
   ],
   "source": [
    "bob_redeem.add_fee_and_sign()"
   ]
  },
  {
   "cell_type": "code",
   "execution_count": 38,
   "metadata": {},
   "outputs": [
    {
     "data": {
      "text/plain": [
       "{'transaction': '010000000149d7b88a341849ccf714056fbf19a49c95bf7ff973ec2255fb3a8a257b5ea80100000000df473044022059a76f09b6b21f6e1d775ea9c055699a18091af089902bcec3862a7a57cb4e4f0220593e1c2b4f2fe9d9415ce0aaa1013da200ba039bc5d2a7a9ccebc63167d05830012102407961c3930740e5ae385e2bdda12fbde5b4de957c2fb41581e101183e6e8c5320c7e1b4004edf35a2a8dede92bd33d8f00dee67cf3a53d738690a9904f874b6d8514c5163a614b8bd58f129d0c298e5b8bb6e89ace912cab2d8ba8876a91446d5d02bf70dc8702342e8076309da5b2101c6c0670439c71f5eb17576a9140aa069cca424629ef5c0179b1665ceceaf5bcc466888ac00000000015d791e00000000001976a91446d5d02bf70dc8702342e8076309da5b2101c6c088ac00000000',\n",
       " 'transaction_address': '3ae90cdd402266f041db5935acd74c425874afd5921697ba427fd6186f0ac53d',\n",
       " 'fee': 2.851e-05,\n",
       " 'fee_per_kb': 9.255e-05,\n",
       " 'fee_per_kb_text': '0.00009255 DASH / 1 kB',\n",
       " 'fee_text': '0.00002851 DASH',\n",
       " 'recipient_address': 'Xh9PGgTd8fr1rCNSQDg8zH31ugyTN88d7n',\n",
       " 'size': 308,\n",
       " 'size_text': '308 bytes',\n",
       " 'value': 0.02,\n",
       " 'value_text': '0.02000000 DASH',\n",
       " 'transaction_link': 'https://insight.dash.org/insight/tx/3ae90cdd402266f041db5935acd74c425874afd5921697ba427fd6186f0ac53d'}"
      ]
     },
     "execution_count": 38,
     "metadata": {},
     "output_type": "execute_result"
    }
   ],
   "source": [
    "bob_redeem.show_details()"
   ]
  },
  {
   "cell_type": "code",
   "execution_count": 39,
   "metadata": {},
   "outputs": [
    {
     "name": "stderr",
     "output_type": "stream",
     "text": [
      "2020-01-13 20:58:52 oscars-mbp.dyndns.rice.edu root[70045] DEBUG   Requesting: https://insight.dash.org/insight-api/tx/send\n",
      "2020-01-13 20:58:52 oscars-mbp.dyndns.rice.edu urllib3.connectionpool[70045] DEBUG Starting new HTTPS connection (1): insight.dash.org:443\n",
      "2020-01-13 20:58:52 oscars-mbp.dyndns.rice.edu urllib3.connectionpool[70045] DEBUG https://insight.dash.org:443 \"POST /insight-api/tx/send HTTP/1.1\" 200 75\n",
      "2020-01-13 20:58:52 oscars-mbp.dyndns.rice.edu root[70045] DEBUG Got response: https://insight.dash.org/insight-api/tx/send [0.33s]\n"
     ]
    },
    {
     "data": {
      "text/plain": [
       "'3ae90cdd402266f041db5935acd74c425874afd5921697ba427fd6186f0ac53d'"
      ]
     },
     "execution_count": 39,
     "metadata": {},
     "output_type": "execute_result"
    }
   ],
   "source": [
    "bob_redeem.publish()"
   ]
  },
  {
   "cell_type": "code",
   "execution_count": 40,
   "metadata": {},
   "outputs": [
    {
     "name": "stderr",
     "output_type": "stream",
     "text": [
      "2020-01-13 21:04:37 oscars-mbp.dyndns.rice.edu root[70045] DEBUG   Requesting: https://chainz.cryptoid.info/ltc/api.dws?q=getbalance&a=LWZm6ZzCFQMP98vkYjFnLQJrPVcmEL6rfg&key=aa193d9b448c\n",
      "2020-01-13 21:04:37 oscars-mbp.dyndns.rice.edu urllib3.connectionpool[70045] DEBUG Starting new HTTPS connection (1): chainz.cryptoid.info:443\n",
      "2020-01-13 21:04:38 oscars-mbp.dyndns.rice.edu urllib3.connectionpool[70045] DEBUG https://chainz.cryptoid.info:443 \"GET /ltc/api.dws?q=getbalance&a=LWZm6ZzCFQMP98vkYjFnLQJrPVcmEL6rfg&key=aa193d9b448c HTTP/1.1\" 200 10\n",
      "2020-01-13 21:04:38 oscars-mbp.dyndns.rice.edu root[70045] DEBUG Got response: https://chainz.cryptoid.info/ltc/api.dws?q=getbalance&a=LWZm6ZzCFQMP98vkYjFnLQJrPVcmEL6rfg&key=aa193d9b448c [0.39s]\n"
     ]
    },
    {
     "data": {
      "text/plain": [
       "0.01899632"
      ]
     },
     "execution_count": 40,
     "metadata": {},
     "output_type": "execute_result"
    }
   ],
   "source": [
    "ltc_network.get_balance('LWZm6ZzCFQMP98vkYjFnLQJrPVcmEL6rfg')"
   ]
  },
  {
   "cell_type": "code",
   "execution_count": 42,
   "metadata": {},
   "outputs": [
    {
     "name": "stderr",
     "output_type": "stream",
     "text": [
      "2020-01-13 21:06:07 oscars-mbp.dyndns.rice.edu root[70045] DEBUG   Requesting: https://insight.dash.org/insight-api/addr/Xh9PGgTd8fr1rCNSQDg8zH31ugyTN88d7n/balance\n",
      "2020-01-13 21:06:07 oscars-mbp.dyndns.rice.edu urllib3.connectionpool[70045] DEBUG Starting new HTTPS connection (1): insight.dash.org:443\n",
      "2020-01-13 21:06:08 oscars-mbp.dyndns.rice.edu urllib3.connectionpool[70045] DEBUG https://insight.dash.org:443 \"GET /insight-api/addr/Xh9PGgTd8fr1rCNSQDg8zH31ugyTN88d7n/balance HTTP/1.1\" 200 7\n",
      "2020-01-13 21:06:08 oscars-mbp.dyndns.rice.edu root[70045] DEBUG Got response: https://insight.dash.org/insight-api/addr/Xh9PGgTd8fr1rCNSQDg8zH31ugyTN88d7n/balance [0.31s]\n"
     ]
    },
    {
     "data": {
      "text/plain": [
       "0.01997149"
      ]
     },
     "execution_count": 42,
     "metadata": {},
     "output_type": "execute_result"
    }
   ],
   "source": [
    "dash_network.get_balance(bob_dash_address)"
   ]
  },
  {
   "cell_type": "code",
   "execution_count": 43,
   "metadata": {},
   "outputs": [
    {
     "data": {
      "text/plain": [
       "'Xh9PGgTd8fr1rCNSQDg8zH31ugyTN88d7n'"
      ]
     },
     "execution_count": 43,
     "metadata": {},
     "output_type": "execute_result"
    }
   ],
   "source": [
    "bob_dash_address"
   ]
  },
  {
   "cell_type": "code",
   "execution_count": 1,
   "metadata": {},
   "outputs": [
    {
     "data": {
      "text/plain": [
       "'Darwin'"
      ]
     },
     "execution_count": 1,
     "metadata": {},
     "output_type": "execute_result"
    }
   ],
   "source": [
    "import platform\n",
    "platform.system()"
   ]
  },
  {
   "cell_type": "code",
   "execution_count": 1,
   "metadata": {},
   "outputs": [],
   "source": [
    "from clove.network import Bitcoin"
   ]
  },
  {
   "cell_type": "code",
   "execution_count": 2,
   "metadata": {},
   "outputs": [],
   "source": [
    "network = Bitcoin()"
   ]
  },
  {
   "cell_type": "code",
   "execution_count": 8,
   "metadata": {},
   "outputs": [
    {
     "name": "stderr",
     "output_type": "stream",
     "text": [
      "2020-01-22 02:27:17 Oscars-MacBook-Pro.local root[76604] DEBUG   Requesting: https://insight.bitpay.com/api/tx/c55c01116f94bfc3d74e7bba033918f7f17af9efe452adde907509d9d3bc0dab\n",
      "2020-01-22 02:27:17 Oscars-MacBook-Pro.local requests.packages.urllib3.connectionpool[76604] INFO Starting new HTTPS connection (1): insight.bitpay.com\n",
      "2020-01-22 02:27:17 Oscars-MacBook-Pro.local requests.packages.urllib3.connectionpool[76604] DEBUG \"GET /api/tx/c55c01116f94bfc3d74e7bba033918f7f17af9efe452adde907509d9d3bc0dab HTTP/1.1\" 200 None\n",
      "2020-01-22 02:27:17 Oscars-MacBook-Pro.local root[76604] DEBUG Got response: https://insight.bitpay.com/api/tx/c55c01116f94bfc3d74e7bba033918f7f17af9efe452adde907509d9d3bc0dab [0.17s]\n",
      "2020-01-22 02:27:17 Oscars-MacBook-Pro.local root[76604] DEBUG   Requesting: https://insight.bitpay.com/api/addr/3K5o6xPGh2VEZmR2RYDSwxruumnzvrUT3c/balance\n",
      "2020-01-22 02:27:17 Oscars-MacBook-Pro.local requests.packages.urllib3.connectionpool[76604] INFO Starting new HTTPS connection (1): insight.bitpay.com\n",
      "2020-01-22 02:27:18 Oscars-MacBook-Pro.local requests.packages.urllib3.connectionpool[76604] DEBUG \"GET /api/addr/3K5o6xPGh2VEZmR2RYDSwxruumnzvrUT3c/balance HTTP/1.1\" 200 1\n",
      "2020-01-22 02:27:18 Oscars-MacBook-Pro.local root[76604] DEBUG Got response: https://insight.bitpay.com/api/addr/3K5o6xPGh2VEZmR2RYDSwxruumnzvrUT3c/balance [0.32s]\n"
     ]
    },
    {
     "data": {
      "text/plain": [
       "<clove.network.bitcoin.contract.BitcoinContract at 0x107258668>"
      ]
     },
     "execution_count": 8,
     "metadata": {},
     "output_type": "execute_result"
    }
   ],
   "source": [
    "audit = network.audit_contract(\n",
    "    #contract=initial_transaction.show_details()[\"contract\"],\n",
    "    contract='63a61430d87449162abc28af06121159a63c116c4273588876a91430ab3c92c97041e8e27cfbfbf5c9f091c188d8dc67042ea82a5eb17576a91460b6f15ce22c5ed94329e29828f8d38c149111466888ac',\n",
    "    #transaction_address= initial_transaction.show_details()[\"transaction_address\"],\n",
    "    transaction_address= 'c55c01116f94bfc3d74e7bba033918f7f17af9efe452adde907509d9d3bc0dab',\n",
    ")\n",
    "audit"
   ]
  },
  {
   "cell_type": "code",
   "execution_count": 10,
   "metadata": {},
   "outputs": [
    {
     "data": {
      "text/plain": [
       "{'contract_address': '3K5o6xPGh2VEZmR2RYDSwxruumnzvrUT3c',\n",
       " 'confirmations': 0,\n",
       " 'transaction_address': 'c55c01116f94bfc3d74e7bba033918f7f17af9efe452adde907509d9d3bc0dab',\n",
       " 'transaction_link': 'https://insight.bitpay.com/tx/c55c01116f94bfc3d74e7bba033918f7f17af9efe452adde907509d9d3bc0dab',\n",
       " 'locktime': datetime.datetime(2020, 1, 24, 8, 17, 50),\n",
       " 'recipient_address': '15SLZwKB5qoujRKvJnan6WqHmpNFhTExnZ',\n",
       " 'refund_address': '19pP2WLz1CMeVhQY9T4PHowKzKKks79iuQ',\n",
       " 'secret_hash': '30d87449162abc28af06121159a63c116c427358',\n",
       " 'value': 0.000115,\n",
       " 'value_text': '0.00011500 BTC'}"
      ]
     },
     "execution_count": 10,
     "metadata": {},
     "output_type": "execute_result"
    }
   ],
   "source": [
    "audit.show_details()"
   ]
  },
  {
   "cell_type": "code",
   "execution_count": 35,
   "metadata": {},
   "outputs": [
    {
     "data": {
      "text/plain": [
       "'LWZm6ZzCFQMP98vkYjFnLQJrPVcmEL6rfg'"
      ]
     },
     "execution_count": 35,
     "metadata": {},
     "output_type": "execute_result"
    }
   ],
   "source": [
    "from clove.network import Litecoin\n",
    "ltc_network = Litecoin()\n",
    "\n",
    "#alice_ltc_wallet = ltc_network.get_new_wallet()\n",
    "alice_ltc_wallet = ltc_network.get_wallet(private_key='T3uJbS5yKBCBxpptkr6nWoU6DFxkUiDAbKk5Ynoqhqfea5i3ef4e')\n",
    "\n",
    "alice_ltc_wallet.address #LWZm6ZzCFQMP98vkYjFnLQJrPVcmEL6rfg"
   ]
  },
  {
   "cell_type": "code",
   "execution_count": 36,
   "metadata": {},
   "outputs": [
    {
     "name": "stderr",
     "output_type": "stream",
     "text": [
      "2020-01-22 21:01:03 oscars-mbp.dyndns.rice.edu root[83128] DEBUG   Requesting: https://chainz.cryptoid.info/ltc/api.dws?q=getbalance&a=LWZm6ZzCFQMP98vkYjFnLQJrPVcmEL6rfg&key=aa193d9b448c\n",
      "2020-01-22 21:01:03 oscars-mbp.dyndns.rice.edu requests.packages.urllib3.connectionpool[83128] INFO Starting new HTTPS connection (1): chainz.cryptoid.info\n",
      "2020-01-22 21:01:03 oscars-mbp.dyndns.rice.edu requests.packages.urllib3.connectionpool[83128] DEBUG \"GET /ltc/api.dws?q=getbalance&a=LWZm6ZzCFQMP98vkYjFnLQJrPVcmEL6rfg&key=aa193d9b448c HTTP/1.1\" 200 10\n",
      "2020-01-22 21:01:03 oscars-mbp.dyndns.rice.edu root[83128] DEBUG Got response: https://chainz.cryptoid.info/ltc/api.dws?q=getbalance&a=LWZm6ZzCFQMP98vkYjFnLQJrPVcmEL6rfg&key=aa193d9b448c [0.39s]\n"
     ]
    },
    {
     "data": {
      "text/plain": [
       "0.03610807"
      ]
     },
     "execution_count": 36,
     "metadata": {},
     "output_type": "execute_result"
    }
   ],
   "source": [
    "ltc_network.get_balance('LWZm6ZzCFQMP98vkYjFnLQJrPVcmEL6rfg')"
   ]
  },
  {
   "cell_type": "code",
   "execution_count": 15,
   "metadata": {},
   "outputs": [
    {
     "name": "stderr",
     "output_type": "stream",
     "text": [
      "2020-01-22 13:29:22 Oscars-MacBook-Pro.local root[76604] DEBUG   Requesting: https://chainz.cryptoid.info/ltc/api.dws?q=getbalance&a=LWZm6ZzCFQMP98vkYjFnLQJrPVcmEL6rfg&key=aa193d9b448c\n",
      "2020-01-22 13:29:22 Oscars-MacBook-Pro.local requests.packages.urllib3.connectionpool[76604] INFO Starting new HTTPS connection (1): chainz.cryptoid.info\n",
      "2020-01-22 13:29:23 Oscars-MacBook-Pro.local requests.packages.urllib3.connectionpool[76604] DEBUG \"GET /ltc/api.dws?q=getbalance&a=LWZm6ZzCFQMP98vkYjFnLQJrPVcmEL6rfg&key=aa193d9b448c HTTP/1.1\" 200 10\n",
      "2020-01-22 13:29:23 Oscars-MacBook-Pro.local root[76604] DEBUG Got response: https://chainz.cryptoid.info/ltc/api.dws?q=getbalance&a=LWZm6ZzCFQMP98vkYjFnLQJrPVcmEL6rfg&key=aa193d9b448c [0.51s]\n"
     ]
    },
    {
     "data": {
      "text/plain": [
       "0.03610807"
      ]
     },
     "execution_count": 15,
     "metadata": {},
     "output_type": "execute_result"
    }
   ],
   "source": [
    "ltc_network.get_balance('LWZm6ZzCFQMP98vkYjFnLQJrPVcmEL6rfg')"
   ]
  },
  {
   "cell_type": "code",
   "execution_count": 2,
   "metadata": {},
   "outputs": [],
   "source": [
    "from clove.network import BitcoinGold"
   ]
  },
  {
   "cell_type": "code",
   "execution_count": 2,
   "metadata": {},
   "outputs": [],
   "source": [
    "btg_network = BitcoinGold()"
   ]
  },
  {
   "cell_type": "code",
   "execution_count": 4,
   "metadata": {},
   "outputs": [
    {
     "data": {
      "text/plain": [
       "'L3ryYuUbBJRsgzphatnjTYHAB1Z3femUbhiagppCLjjtBfVnDdXH'"
      ]
     },
     "execution_count": 4,
     "metadata": {},
     "output_type": "execute_result"
    }
   ],
   "source": [
    "#btg_wallet = btg_network.get_new_wallet()\n",
    "btg_wallet = btg_network.get_wallet(private_key=\"L3ryYuUbBJRsgzphatnjTYHAB1Z3femUbhiagppCLjjtBfVnDdXH\")\n",
    "btg_wallet.get_private_key()"
   ]
  },
  {
   "cell_type": "code",
   "execution_count": 5,
   "metadata": {},
   "outputs": [
    {
     "data": {
      "text/plain": [
       "'GJ1bdTC3hCPzKRb7kuYw8oskvH2Hexh4NQ'"
      ]
     },
     "execution_count": 5,
     "metadata": {},
     "output_type": "execute_result"
    }
   ],
   "source": [
    "btg_wallet.address"
   ]
  },
  {
   "cell_type": "code",
   "execution_count": 14,
   "metadata": {},
   "outputs": [],
   "source": [
    "from clove.network import Bitcoin"
   ]
  },
  {
   "cell_type": "code",
   "execution_count": 15,
   "metadata": {},
   "outputs": [],
   "source": [
    "btc_network = Bitcoin()"
   ]
  },
  {
   "cell_type": "code",
   "execution_count": 23,
   "metadata": {},
   "outputs": [],
   "source": [
    "#btc_wallet = btc_network.get_new_wallet()\n",
    "btc_wallet = btc_network.get_wallet(private_key=\"KzEw6CW519UerDvxkzGHY5s4xqE97KKfjexVYToL24FuicTDLva3\")"
   ]
  },
  {
   "cell_type": "code",
   "execution_count": 24,
   "metadata": {},
   "outputs": [
    {
     "data": {
      "text/plain": [
       "'KzEw6CW519UerDvxkzGHY5s4xqE97KKfjexVYToL24FuicTDLva3'"
      ]
     },
     "execution_count": 24,
     "metadata": {},
     "output_type": "execute_result"
    }
   ],
   "source": [
    "btc_wallet.get_private_key()"
   ]
  },
  {
   "cell_type": "code",
   "execution_count": 25,
   "metadata": {},
   "outputs": [
    {
     "data": {
      "text/plain": [
       "'151SCHLqoZVVhZQtkgeBW2Qo5WN8ozrCoe'"
      ]
     },
     "execution_count": 25,
     "metadata": {},
     "output_type": "execute_result"
    }
   ],
   "source": [
    "btc_wallet.address #151SCHLqoZVVhZQtkgeBW2Qo5WN8ozrCoe"
   ]
  },
  {
   "cell_type": "code",
   "execution_count": 63,
   "metadata": {},
   "outputs": [
    {
     "name": "stderr",
     "output_type": "stream",
     "text": [
      "2020-01-22 22:50:31 oscars-mbp.dyndns.rice.edu root[83128] DEBUG   Requesting: https://insight.bitpay.com/api/addr/1Hk79C3Bdb2bB3SerND8UEpT7aXoq3Q89L/balance\n",
      "2020-01-22 22:50:31 oscars-mbp.dyndns.rice.edu requests.packages.urllib3.connectionpool[83128] INFO Starting new HTTPS connection (1): insight.bitpay.com\n",
      "2020-01-22 22:50:32 oscars-mbp.dyndns.rice.edu requests.packages.urllib3.connectionpool[83128] DEBUG \"GET /api/addr/1Hk79C3Bdb2bB3SerND8UEpT7aXoq3Q89L/balance HTTP/1.1\" 200 1\n",
      "2020-01-22 22:50:32 oscars-mbp.dyndns.rice.edu root[83128] DEBUG Got response: https://insight.bitpay.com/api/addr/1Hk79C3Bdb2bB3SerND8UEpT7aXoq3Q89L/balance [0.67s]\n"
     ]
    },
    {
     "data": {
      "text/plain": [
       "0"
      ]
     },
     "execution_count": 63,
     "metadata": {},
     "output_type": "execute_result"
    }
   ],
   "source": [
    "btc_network.get_balance('1Hk79C3Bdb2bB3SerND8UEpT7aXoq3Q89L')"
   ]
  },
  {
   "cell_type": "code",
   "execution_count": 33,
   "metadata": {},
   "outputs": [
    {
     "name": "stderr",
     "output_type": "stream",
     "text": [
      "2020-01-22 20:58:35 oscars-mbp.dyndns.rice.edu root[83128] DEBUG   Requesting: https://insight.bitpay.com/api/tx/d3854e00898950ac438bcc850e1fcc2aaa81fd00eaff9804b83886900e4f348e\n",
      "2020-01-22 20:58:35 oscars-mbp.dyndns.rice.edu requests.packages.urllib3.connectionpool[83128] INFO Starting new HTTPS connection (1): insight.bitpay.com\n",
      "2020-01-22 20:58:35 oscars-mbp.dyndns.rice.edu requests.packages.urllib3.connectionpool[83128] DEBUG \"GET /api/tx/d3854e00898950ac438bcc850e1fcc2aaa81fd00eaff9804b83886900e4f348e HTTP/1.1\" 200 None\n",
      "2020-01-22 20:58:35 oscars-mbp.dyndns.rice.edu root[83128] DEBUG Got response: https://insight.bitpay.com/api/tx/d3854e00898950ac438bcc850e1fcc2aaa81fd00eaff9804b83886900e4f348e [0.07s]\n",
      "2020-01-22 20:58:35 oscars-mbp.dyndns.rice.edu root[83128] DEBUG   Requesting: https://insight.bitpay.com/api/addr/3L7xy4zgrvci7rpVGuSiFaPiWssZ4RXRY7/balance\n",
      "2020-01-22 20:58:35 oscars-mbp.dyndns.rice.edu requests.packages.urllib3.connectionpool[83128] INFO Starting new HTTPS connection (1): insight.bitpay.com\n",
      "2020-01-22 20:58:38 oscars-mbp.dyndns.rice.edu requests.packages.urllib3.connectionpool[83128] DEBUG \"GET /api/addr/3L7xy4zgrvci7rpVGuSiFaPiWssZ4RXRY7/balance HTTP/1.1\" 200 5\n",
      "2020-01-22 20:58:38 oscars-mbp.dyndns.rice.edu root[83128] DEBUG Got response: https://insight.bitpay.com/api/addr/3L7xy4zgrvci7rpVGuSiFaPiWssZ4RXRY7/balance [3.03s]\n"
     ]
    }
   ],
   "source": [
    "first_contract = btc_network.audit_contract(\n",
    "    contract=\"63a6147823e7ff716432dfeb29a34d6f5d52673da67cfe8876a9142bf588d213bf50d8943df4216296b2f2c67dee6f670478a92b5eb17576a91460b6f15ce22c5ed94329e29828f8d38c149111466888ac\",\n",
    "    transaction_address=\"d3854e00898950ac438bcc850e1fcc2aaa81fd00eaff9804b83886900e4f348e\"\n",
    ")"
   ]
  },
  {
   "cell_type": "code",
   "execution_count": 37,
   "metadata": {},
   "outputs": [
    {
     "data": {
      "text/plain": [
       "{'contract_address': '3L7xy4zgrvci7rpVGuSiFaPiWssZ4RXRY7',\n",
       " 'confirmations': 1,\n",
       " 'transaction_address': 'd3854e00898950ac438bcc850e1fcc2aaa81fd00eaff9804b83886900e4f348e',\n",
       " 'transaction_link': 'https://insight.bitpay.com/tx/d3854e00898950ac438bcc850e1fcc2aaa81fd00eaff9804b83886900e4f348e',\n",
       " 'locktime': datetime.datetime(2020, 1, 25, 2, 35, 36),\n",
       " 'recipient_address': '151SCHLqoZVVhZQtkgeBW2Qo5WN8ozrCoe',\n",
       " 'refund_address': '19pP2WLz1CMeVhQY9T4PHowKzKKks79iuQ',\n",
       " 'secret_hash': '7823e7ff716432dfeb29a34d6f5d52673da67cfe',\n",
       " 'value': 0.000117,\n",
       " 'value_text': '0.00011700 BTC'}"
      ]
     },
     "execution_count": 37,
     "metadata": {},
     "output_type": "execute_result"
    }
   ],
   "source": [
    "first_contract.show_details()"
   ]
  },
  {
   "cell_type": "code",
   "execution_count": 38,
   "metadata": {},
   "outputs": [
    {
     "name": "stderr",
     "output_type": "stream",
     "text": [
      "2020-01-22 21:04:03 oscars-mbp.dyndns.rice.edu root[83128] DEBUG   Requesting: https://chainz.cryptoid.info/ltc/api.dws?q=unspent&key=aa193d9b448c&active=LWZm6ZzCFQMP98vkYjFnLQJrPVcmEL6rfg\n",
      "2020-01-22 21:04:03 oscars-mbp.dyndns.rice.edu requests.packages.urllib3.connectionpool[83128] INFO Starting new HTTPS connection (1): chainz.cryptoid.info\n",
      "2020-01-22 21:04:03 oscars-mbp.dyndns.rice.edu requests.packages.urllib3.connectionpool[83128] DEBUG \"GET /ltc/api.dws?q=unspent&key=aa193d9b448c&active=LWZm6ZzCFQMP98vkYjFnLQJrPVcmEL6rfg HTTP/1.1\" 200 None\n",
      "2020-01-22 21:04:03 oscars-mbp.dyndns.rice.edu root[83128] DEBUG Got response: https://chainz.cryptoid.info/ltc/api.dws?q=unspent&key=aa193d9b448c&active=LWZm6ZzCFQMP98vkYjFnLQJrPVcmEL6rfg [0.33s]\n"
     ]
    }
   ],
   "source": [
    "participate_transaction = first_contract.participate(\n",
    "    symbol='LTC',\n",
    "    sender_address=alice_ltc_wallet.address,\n",
    "    recipient_address=\"LSquyxmhscvATapUxqqY5k7JRr2qm7RD7h\",\n",
    "    value=0.0175,\n",
    ")"
   ]
  },
  {
   "cell_type": "code",
   "execution_count": 39,
   "metadata": {},
   "outputs": [
    {
     "name": "stderr",
     "output_type": "stream",
     "text": [
      "2020-01-22 21:04:37 oscars-mbp.dyndns.rice.edu root[83128] DEBUG   Requesting: https://clove-api.lamden.io/fee/LTC\n",
      "2020-01-22 21:04:37 oscars-mbp.dyndns.rice.edu requests.packages.urllib3.connectionpool[83128] INFO Starting new HTTPS connection (1): clove-api.lamden.io\n",
      "2020-01-22 21:04:42 oscars-mbp.dyndns.rice.edu requests.packages.urllib3.connectionpool[83128] DEBUG \"GET /fee/LTC HTTP/1.1\" 200 35\n",
      "2020-01-22 21:04:42 oscars-mbp.dyndns.rice.edu root[83128] DEBUG Got response: https://clove-api.lamden.io/fee/LTC [4.85s]\n"
     ]
    }
   ],
   "source": [
    "participate_transaction.add_fee_and_sign(alice_ltc_wallet)"
   ]
  },
  {
   "cell_type": "code",
   "execution_count": 40,
   "metadata": {},
   "outputs": [
    {
     "name": "stderr",
     "output_type": "stream",
     "text": [
      "2020-01-22 21:05:08 oscars-mbp.dyndns.rice.edu root[83128] DEBUG Getting nodes from seed node dnsseed.litecointools.com\n",
      "2020-01-22 21:05:08 oscars-mbp.dyndns.rice.edu root[83128] DEBUG Got 23 nodes\n",
      "2020-01-22 21:05:08 oscars-mbp.dyndns.rice.edu root[83128] DEBUG [192.0.209.162] Connection established, sending version packet\n",
      "2020-01-22 21:05:09 oscars-mbp.dyndns.rice.edu root[83128] DEBUG Saving version\n",
      "2020-01-22 21:05:09 oscars-mbp.dyndns.rice.edu root[83128] DEBUG Found b'VERSION', 1 more to catch\n",
      "2020-01-22 21:05:09 oscars-mbp.dyndns.rice.edu root[83128] DEBUG Found b'VERACK', 0 more to catch\n",
      "2020-01-22 21:05:09 oscars-mbp.dyndns.rice.edu root[83128] DEBUG [192.0.209.162] Got version, sending version acknowledge message\n",
      "2020-01-22 21:05:09 oscars-mbp.dyndns.rice.edu root[83128] DEBUG Got ping, sending pong.\n",
      "2020-01-22 21:05:09 oscars-mbp.dyndns.rice.edu root[83128] DEBUG Found b'GETDATA', 0 more to catch\n",
      "2020-01-22 21:05:09 oscars-mbp.dyndns.rice.edu root[83128] INFO [192.0.209.162] Node responded correctly.\n",
      "2020-01-22 21:05:09 oscars-mbp.dyndns.rice.edu root[83128] INFO [192.0.209.162] Looking for reject message.\n"
     ]
    },
    {
     "name": "stdout",
     "output_type": "stream",
     "text": [
      "Command 'b'sendheaders'' not in messagemap\n",
      "Command 'b'sendcmpct'' not in messagemap\n",
      "Command 'b'sendcmpct'' not in messagemap\n",
      "Command 'b'feefilter'' not in messagemap\n"
     ]
    },
    {
     "name": "stderr",
     "output_type": "stream",
     "text": [
      "2020-01-22 21:05:28 oscars-mbp.dyndns.rice.edu root[83128] INFO [192.0.209.162] Reject message not found.\n",
      "2020-01-22 21:05:28 oscars-mbp.dyndns.rice.edu root[83128] INFO [192.0.209.162] Transaction 42719a1a7d3227c4e943cbd1d4b65e49e523a80ad3f2a8245a4cbbada7685214 has just been sent.\n",
      "2020-01-22 21:05:28 oscars-mbp.dyndns.rice.edu root[83128] INFO Transaction broadcast is successful. End of broadcasting process.\n"
     ]
    },
    {
     "data": {
      "text/plain": [
       "'42719a1a7d3227c4e943cbd1d4b65e49e523a80ad3f2a8245a4cbbada7685214'"
      ]
     },
     "execution_count": 40,
     "metadata": {},
     "output_type": "execute_result"
    }
   ],
   "source": [
    "participate_transaction.publish()"
   ]
  },
  {
   "cell_type": "code",
   "execution_count": 41,
   "metadata": {},
   "outputs": [
    {
     "data": {
      "text/plain": [
       "{'contract': '63a6147823e7ff716432dfeb29a34d6f5d52673da67cfe8876a9145395f3a33f1174afc8bb84c26048069ab908f5196704a35e2a5eb17576a9147c6861b8e100731bdd0535a1e3f20ebdfaa9a1ce6888ac',\n",
       " 'contract_address': 'MV8SdVSHv6XqdpmT1A7i7w1FkhwS99WYg7',\n",
       " 'contract_transaction': '0100000001451dd3b3c610198886de818ad62efebedfbd97efd3a9e38a25a9d8fa16f9e021000000006a473044022062ab5fddff616ac0e30ac31d4a4afc91ee70c7974b30b27ec0101e4deafdd39402202cfe33617b06f92e20dfa3e7806cf8b683899c89404e592802e9acd22eb184a801210341e28aa73498d04c248ced2d4a8fc2af6cd875ddc1c06a3f0d8cd8bcfab361df0000000002f0b31a000000000017a914e8ddbcab75a9f5597d8e02d689f0a496f68d89f58792470200000000001976a9147c6861b8e100731bdd0535a1e3f20ebdfaa9a1ce88ac00000000',\n",
       " 'transaction_address': '42719a1a7d3227c4e943cbd1d4b65e49e523a80ad3f2a8245a4cbbada7685214',\n",
       " 'fee': 2.38e-06,\n",
       " 'fee_per_kb': 1.069e-05,\n",
       " 'fee_per_kb_text': '0.00001069 LTC / 1 kB',\n",
       " 'fee_text': '0.00000238 LTC',\n",
       " 'locktime': datetime.datetime(2020, 1, 24, 3, 4, 3, 976821),\n",
       " 'recipient_address': 'LSquyxmhscvATapUxqqY5k7JRr2qm7RD7h',\n",
       " 'refund_address': 'LWZm6ZzCFQMP98vkYjFnLQJrPVcmEL6rfg',\n",
       " 'secret': '',\n",
       " 'secret_hash': '7823e7ff716432dfeb29a34d6f5d52673da67cfe',\n",
       " 'size': 223,\n",
       " 'size_text': '223 bytes',\n",
       " 'value': 0.0175,\n",
       " 'value_text': '0.01750000 LTC',\n",
       " 'transaction_link': 'https://chainz.cryptoid.info/ltc/tx.dws?42719a1a7d3227c4e943cbd1d4b65e49e523a80ad3f2a8245a4cbbada7685214.htm'}"
      ]
     },
     "execution_count": 41,
     "metadata": {},
     "output_type": "execute_result"
    }
   ],
   "source": [
    "participate_transaction.show_details()"
   ]
  },
  {
   "cell_type": "code",
   "execution_count": 43,
   "metadata": {},
   "outputs": [],
   "source": [
    "contract_address = participate_transaction.show_details()['contract_address']"
   ]
  },
  {
   "cell_type": "code",
   "execution_count": 44,
   "metadata": {},
   "outputs": [
    {
     "data": {
      "text/plain": [
       "'MV8SdVSHv6XqdpmT1A7i7w1FkhwS99WYg7'"
      ]
     },
     "execution_count": 44,
     "metadata": {},
     "output_type": "execute_result"
    }
   ],
   "source": [
    "contract_address"
   ]
  },
  {
   "cell_type": "code",
   "execution_count": 62,
   "metadata": {},
   "outputs": [
    {
     "name": "stderr",
     "output_type": "stream",
     "text": [
      "2020-01-22 22:50:02 oscars-mbp.dyndns.rice.edu root[83128] DEBUG   Requesting: https://insight.bitpay.com/api/addr/MV8SdVSHv6XqdpmT1A7i7w1FkhwS99WYg7\n",
      "2020-01-22 22:50:02 oscars-mbp.dyndns.rice.edu requests.packages.urllib3.connectionpool[83128] INFO Starting new HTTPS connection (1): insight.bitpay.com\n",
      "2020-01-22 22:50:04 oscars-mbp.dyndns.rice.edu requests.packages.urllib3.connectionpool[83128] DEBUG \"GET /api/addr/MV8SdVSHv6XqdpmT1A7i7w1FkhwS99WYg7 HTTP/1.1\" 400 61\n",
      "2020-01-22 22:50:04 oscars-mbp.dyndns.rice.edu root[83128] DEBUG Got response: https://insight.bitpay.com/api/addr/MV8SdVSHv6XqdpmT1A7i7w1FkhwS99WYg7 [2.08s]\n",
      "2020-01-22 22:50:04 oscars-mbp.dyndns.rice.edu root[83128] ERROR Unexpected status code when requesting url: https://insight.bitpay.com/api/addr/MV8SdVSHv6XqdpmT1A7i7w1FkhwS99WYg7\n"
     ]
    },
    {
     "ename": "TypeError",
     "evalue": "'NoneType' object is not subscriptable",
     "output_type": "error",
     "traceback": [
      "\u001b[0;31m---------------------------------------------------------------------------\u001b[0m",
      "\u001b[0;31mTypeError\u001b[0m                                 Traceback (most recent call last)",
      "\u001b[0;32m<ipython-input-62-4e4f27e73cf4>\u001b[0m in \u001b[0;36m<module>\u001b[0;34m\u001b[0m\n\u001b[0;32m----> 1\u001b[0;31m \u001b[0msecret\u001b[0m \u001b[0;34m=\u001b[0m \u001b[0mbtc_network\u001b[0m\u001b[0;34m.\u001b[0m\u001b[0mextract_secret_from_redeem_transaction\u001b[0m\u001b[0;34m(\u001b[0m\u001b[0mcontract_address\u001b[0m\u001b[0;34m)\u001b[0m\u001b[0;34m\u001b[0m\u001b[0;34m\u001b[0m\u001b[0m\n\u001b[0m\u001b[1;32m      2\u001b[0m \u001b[0msecret\u001b[0m\u001b[0;34m\u001b[0m\u001b[0;34m\u001b[0m\u001b[0m\n",
      "\u001b[0;32m/anaconda3/lib/python3.7/site-packages/clove/block_explorer/insight.py\u001b[0m in \u001b[0;36mextract_secret_from_redeem_transaction\u001b[0;34m(cls, contract_address)\u001b[0m\n\u001b[1;32m    171\u001b[0m             \u001b[0;36m90\u001b[0m\u001b[0mf6b9b9a34acb486654b3e9cdc02cce0b8e40a8845924ffda68453ac2477d20\u001b[0m\u001b[0;34m\u001b[0m\u001b[0;34m\u001b[0m\u001b[0m\n\u001b[1;32m    172\u001b[0m         '''\n\u001b[0;32m--> 173\u001b[0;31m         \u001b[0mcontract_transactions\u001b[0m \u001b[0;34m=\u001b[0m \u001b[0mclove_req_json\u001b[0m\u001b[0;34m(\u001b[0m\u001b[0;34mf'{cls.api_url}/addr/{contract_address}'\u001b[0m\u001b[0;34m)\u001b[0m\u001b[0;34m[\u001b[0m\u001b[0;34m'transactions'\u001b[0m\u001b[0;34m]\u001b[0m\u001b[0;34m\u001b[0m\u001b[0;34m\u001b[0m\u001b[0m\n\u001b[0m\u001b[1;32m    174\u001b[0m         \u001b[0;32mif\u001b[0m \u001b[0;32mnot\u001b[0m \u001b[0mcontract_transactions\u001b[0m\u001b[0;34m:\u001b[0m\u001b[0;34m\u001b[0m\u001b[0;34m\u001b[0m\u001b[0m\n\u001b[1;32m    175\u001b[0m             \u001b[0mlogger\u001b[0m\u001b[0;34m.\u001b[0m\u001b[0merror\u001b[0m\u001b[0;34m(\u001b[0m\u001b[0;34mf'Cannot get contract transactions ({cls.symbols[0]})'\u001b[0m\u001b[0;34m)\u001b[0m\u001b[0;34m\u001b[0m\u001b[0;34m\u001b[0m\u001b[0m\n",
      "\u001b[0;31mTypeError\u001b[0m: 'NoneType' object is not subscriptable"
     ]
    }
   ],
   "source": [
    "secret = btc_network.extract_secret_from_redeem_transaction(contract_address)\n",
    "secret"
   ]
  },
  {
   "cell_type": "code",
   "execution_count": 65,
   "metadata": {},
   "outputs": [],
   "source": [
    "dash_secret = \"4cd3df1645de18433af42a663539a7be01532ef5350d3450c5c867e85654f6ca\""
   ]
  },
  {
   "cell_type": "code",
   "execution_count": 66,
   "metadata": {},
   "outputs": [],
   "source": [
    "from clove.network import Dash\n",
    "\n",
    "network = Dash()"
   ]
  },
  {
   "cell_type": "code",
   "execution_count": 67,
   "metadata": {},
   "outputs": [
    {
     "name": "stderr",
     "output_type": "stream",
     "text": [
      "2020-01-23 00:31:06 oscars-mbp.dyndns.rice.edu root[83128] DEBUG   Requesting: https://insight.dash.org/insight-api/tx/78aab75ae697274165ac790b1a2daab8689bc5bd8f4c228067187139f5b8f1d7\n",
      "2020-01-23 00:31:06 oscars-mbp.dyndns.rice.edu requests.packages.urllib3.connectionpool[83128] INFO Starting new HTTPS connection (1): insight.dash.org\n",
      "2020-01-23 00:31:06 oscars-mbp.dyndns.rice.edu requests.packages.urllib3.connectionpool[83128] DEBUG \"GET /insight-api/tx/78aab75ae697274165ac790b1a2daab8689bc5bd8f4c228067187139f5b8f1d7 HTTP/1.1\" 200 1648\n",
      "2020-01-23 00:31:06 oscars-mbp.dyndns.rice.edu root[83128] DEBUG Got response: https://insight.dash.org/insight-api/tx/78aab75ae697274165ac790b1a2daab8689bc5bd8f4c228067187139f5b8f1d7 [0.45s]\n",
      "2020-01-23 00:31:06 oscars-mbp.dyndns.rice.edu root[83128] DEBUG   Requesting: https://insight.dash.org/insight-api/addr/7pmYjDWHPjnL1u4Q4L6QVugmPDFsWPmJn7/balance\n",
      "2020-01-23 00:31:06 oscars-mbp.dyndns.rice.edu requests.packages.urllib3.connectionpool[83128] INFO Starting new HTTPS connection (1): insight.dash.org\n",
      "2020-01-23 00:31:07 oscars-mbp.dyndns.rice.edu requests.packages.urllib3.connectionpool[83128] DEBUG \"GET /insight-api/addr/7pmYjDWHPjnL1u4Q4L6QVugmPDFsWPmJn7/balance HTTP/1.1\" 200 6\n",
      "2020-01-23 00:31:07 oscars-mbp.dyndns.rice.edu root[83128] DEBUG Got response: https://insight.dash.org/insight-api/addr/7pmYjDWHPjnL1u4Q4L6QVugmPDFsWPmJn7/balance [0.40s]\n"
     ]
    },
    {
     "data": {
      "text/plain": [
       "{'contract_address': '7pmYjDWHPjnL1u4Q4L6QVugmPDFsWPmJn7',\n",
       " 'confirmations': 17,\n",
       " 'transaction_address': '78aab75ae697274165ac790b1a2daab8689bc5bd8f4c228067187139f5b8f1d7',\n",
       " 'transaction_link': 'https://insight.dash.org/insight/tx/78aab75ae697274165ac790b1a2daab8689bc5bd8f4c228067187139f5b8f1d7',\n",
       " 'locktime': datetime.datetime(2020, 1, 25, 5, 36, 45),\n",
       " 'recipient_address': 'XbBV7yTNTgaEoVSx7fFC2735jWoWspu3Lr',\n",
       " 'refund_address': 'XvPRbHkPwdLFZrnrVvuVNGZEbb24sX5aeR',\n",
       " 'secret_hash': '5950b49dde4c174775cbd02713c662b4b587e4bc',\n",
       " 'value': 0.0098,\n",
       " 'value_text': '0.00980000 DASH'}"
      ]
     },
     "execution_count": 67,
     "metadata": {},
     "output_type": "execute_result"
    }
   ],
   "source": [
    "contract = network.audit_contract(\n",
    "    contract=\"63a6145950b49dde4c174775cbd02713c662b4b587e4bc8876a914056ac60c522bd844524586779c84f603d11baf006704edd32b5eb17576a914d817358b8c028abc0b922a6f76b8c56f37265a716888ac\",\n",
    "    transaction_address=\"78aab75ae697274165ac790b1a2daab8689bc5bd8f4c228067187139f5b8f1d7\"\n",
    ")\n",
    "contract.show_details()"
   ]
  },
  {
   "cell_type": "code",
   "execution_count": 68,
   "metadata": {},
   "outputs": [],
   "source": []
  },
  {
   "cell_type": "code",
   "execution_count": null,
   "metadata": {},
   "outputs": [],
   "source": []
  }
 ],
 "metadata": {
  "kernelspec": {
   "display_name": "Python 3",
   "language": "python",
   "name": "python3"
  },
  "language_info": {
   "codemirror_mode": {
    "name": "ipython",
    "version": 3
   },
   "file_extension": ".py",
   "mimetype": "text/x-python",
   "name": "python",
   "nbconvert_exporter": "python",
   "pygments_lexer": "ipython3",
   "version": "3.7.3"
  }
 },
 "nbformat": 4,
 "nbformat_minor": 2
}
